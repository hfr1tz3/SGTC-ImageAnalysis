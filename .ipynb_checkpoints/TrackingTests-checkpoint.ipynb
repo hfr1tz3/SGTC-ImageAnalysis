{
 "cells": [
  {
   "cell_type": "code",
   "execution_count": 1,
   "id": "b2f38609-5917-4e11-acb0-38585165174d",
   "metadata": {},
   "outputs": [],
   "source": [
    "import Analytics, skimage\n",
    "import numpy as np\n",
    "import pandas as pd\n",
    "import matplotlib.pyplot as plt"
   ]
  },
  {
   "cell_type": "markdown",
   "id": "3a4238c2-b097-4cda-a6d7-817a9a6c1b17",
   "metadata": {
    "tags": []
   },
   "source": [
    "## Tracking Tests\n",
    "The following notebook will be used to test how to track cells between frames for our samples. \n",
    "Specifically, we want to track velocity of cells as they move between frames as well as tracking correlation between cell movements.\n",
    "\n",
    "Are they all moving in the same direction?\n",
    "\n",
    "Is this migration actual cell movement or is it caused by ulterior fluid flow? \n",
    "\n",
    "Along with migration we can also construct some metrics to determine swarming behavior among neutraphils."
   ]
  },
  {
   "cell_type": "markdown",
   "id": "d2bfa91c-403d-4feb-8121-fc783fd5044e",
   "metadata": {},
   "source": [
    "Note that if we use *Bayesian Tracker* model `btrack`, then the track objects have the output of a `pandas.DataFrame` with each cell having its own `id`, time $t$, coordinates $x$, $y$, as well as a column for any statistic you would like to track from the `skimage.measure.region_props.attributes` list found [here](https://scikit-image.org/docs/stable/api/skimage.measure.html#skimage.measure.regionprops).\n",
    "\n",
    "Examples from the *Bayesian Tracker* model can be found [here](https://github.com/quantumjot/btrack/blob/main/examples/example_tracking_pipeline-features.ipynb)."
   ]
  },
  {
   "cell_type": "code",
   "execution_count": 2,
   "id": "791192ba-1f6d-43d2-9369-ae705d0e66c9",
   "metadata": {},
   "outputs": [],
   "source": [
    "tracks = pd.read_csv('tracks.csv')\n",
    "tracks.rename(columns={'Unnamed: 0': 'index', '0': 'cell', '1': 'frame', '2':'xcoord', '3':'ycoord'}, inplace=True)"
   ]
  },
  {
   "cell_type": "code",
   "execution_count": 15,
   "id": "72349f14-f011-496a-b62c-c1fc3f04cb0b",
   "metadata": {},
   "outputs": [
    {
     "data": {
      "text/plain": [
       "Index(['index', 'cell', 'frame', 'xcoord', 'ycoord', 'velocity', 'speed'], dtype='object')"
      ]
     },
     "execution_count": 15,
     "metadata": {},
     "output_type": "execute_result"
    }
   ],
   "source": [
    "tracks.columns"
   ]
  },
  {
   "cell_type": "code",
   "execution_count": 4,
   "id": "e8549768-61bd-4305-b62c-d040d4d44f54",
   "metadata": {},
   "outputs": [],
   "source": [
    "tracks = Analytics.get_velocities(tracks)"
   ]
  },
  {
   "cell_type": "code",
   "execution_count": 5,
   "id": "817bf702-9f47-44af-a79e-958fec5d2596",
   "metadata": {},
   "outputs": [
    {
     "data": {
      "text/html": [
       "<div>\n",
       "<style scoped>\n",
       "    .dataframe tbody tr th:only-of-type {\n",
       "        vertical-align: middle;\n",
       "    }\n",
       "\n",
       "    .dataframe tbody tr th {\n",
       "        vertical-align: top;\n",
       "    }\n",
       "\n",
       "    .dataframe thead th {\n",
       "        text-align: right;\n",
       "    }\n",
       "</style>\n",
       "<table border=\"1\" class=\"dataframe\">\n",
       "  <thead>\n",
       "    <tr style=\"text-align: right;\">\n",
       "      <th></th>\n",
       "      <th>index</th>\n",
       "      <th>cell</th>\n",
       "      <th>frame</th>\n",
       "      <th>xcoord</th>\n",
       "      <th>ycoord</th>\n",
       "      <th>velocity</th>\n",
       "      <th>speed</th>\n",
       "    </tr>\n",
       "  </thead>\n",
       "  <tbody>\n",
       "    <tr>\n",
       "      <th>0</th>\n",
       "      <td>0</td>\n",
       "      <td>1.0</td>\n",
       "      <td>0.0</td>\n",
       "      <td>1742.0</td>\n",
       "      <td>459.0</td>\n",
       "      <td>(0.0, 0.0)</td>\n",
       "      <td>0.000000</td>\n",
       "    </tr>\n",
       "    <tr>\n",
       "      <th>1</th>\n",
       "      <td>1</td>\n",
       "      <td>2.0</td>\n",
       "      <td>0.0</td>\n",
       "      <td>1023.0</td>\n",
       "      <td>943.0</td>\n",
       "      <td>(0.0, 0.0)</td>\n",
       "      <td>0.000000</td>\n",
       "    </tr>\n",
       "    <tr>\n",
       "      <th>2</th>\n",
       "      <td>2</td>\n",
       "      <td>2.0</td>\n",
       "      <td>1.0</td>\n",
       "      <td>1027.0</td>\n",
       "      <td>948.0</td>\n",
       "      <td>(4.0, 5.0)</td>\n",
       "      <td>6.403124</td>\n",
       "    </tr>\n",
       "    <tr>\n",
       "      <th>3</th>\n",
       "      <td>3</td>\n",
       "      <td>2.0</td>\n",
       "      <td>2.0</td>\n",
       "      <td>1026.0</td>\n",
       "      <td>949.0</td>\n",
       "      <td>(-1.0, 1.0)</td>\n",
       "      <td>1.414214</td>\n",
       "    </tr>\n",
       "    <tr>\n",
       "      <th>4</th>\n",
       "      <td>4</td>\n",
       "      <td>2.0</td>\n",
       "      <td>3.0</td>\n",
       "      <td>1028.0</td>\n",
       "      <td>947.0</td>\n",
       "      <td>(2.0, -2.0)</td>\n",
       "      <td>2.828427</td>\n",
       "    </tr>\n",
       "    <tr>\n",
       "      <th>...</th>\n",
       "      <td>...</td>\n",
       "      <td>...</td>\n",
       "      <td>...</td>\n",
       "      <td>...</td>\n",
       "      <td>...</td>\n",
       "      <td>...</td>\n",
       "      <td>...</td>\n",
       "    </tr>\n",
       "    <tr>\n",
       "      <th>218676</th>\n",
       "      <td>218676</td>\n",
       "      <td>108082.0</td>\n",
       "      <td>240.0</td>\n",
       "      <td>802.0</td>\n",
       "      <td>1298.0</td>\n",
       "      <td>(0.0, 0.0)</td>\n",
       "      <td>0.000000</td>\n",
       "    </tr>\n",
       "    <tr>\n",
       "      <th>218677</th>\n",
       "      <td>218677</td>\n",
       "      <td>108083.0</td>\n",
       "      <td>240.0</td>\n",
       "      <td>1450.0</td>\n",
       "      <td>1229.0</td>\n",
       "      <td>(0.0, 0.0)</td>\n",
       "      <td>0.000000</td>\n",
       "    </tr>\n",
       "    <tr>\n",
       "      <th>218678</th>\n",
       "      <td>218678</td>\n",
       "      <td>108084.0</td>\n",
       "      <td>240.0</td>\n",
       "      <td>1938.0</td>\n",
       "      <td>312.0</td>\n",
       "      <td>(0.0, 0.0)</td>\n",
       "      <td>0.000000</td>\n",
       "    </tr>\n",
       "    <tr>\n",
       "      <th>218679</th>\n",
       "      <td>218679</td>\n",
       "      <td>108085.0</td>\n",
       "      <td>240.0</td>\n",
       "      <td>1667.0</td>\n",
       "      <td>657.0</td>\n",
       "      <td>(0.0, 0.0)</td>\n",
       "      <td>0.000000</td>\n",
       "    </tr>\n",
       "    <tr>\n",
       "      <th>218680</th>\n",
       "      <td>218680</td>\n",
       "      <td>108086.0</td>\n",
       "      <td>240.0</td>\n",
       "      <td>2004.0</td>\n",
       "      <td>1266.0</td>\n",
       "      <td>(0.0, 0.0)</td>\n",
       "      <td>0.000000</td>\n",
       "    </tr>\n",
       "  </tbody>\n",
       "</table>\n",
       "<p>218681 rows × 7 columns</p>\n",
       "</div>"
      ],
      "text/plain": [
       "         index      cell  frame  xcoord  ycoord     velocity     speed\n",
       "0            0       1.0    0.0  1742.0   459.0   (0.0, 0.0)  0.000000\n",
       "1            1       2.0    0.0  1023.0   943.0   (0.0, 0.0)  0.000000\n",
       "2            2       2.0    1.0  1027.0   948.0   (4.0, 5.0)  6.403124\n",
       "3            3       2.0    2.0  1026.0   949.0  (-1.0, 1.0)  1.414214\n",
       "4            4       2.0    3.0  1028.0   947.0  (2.0, -2.0)  2.828427\n",
       "...        ...       ...    ...     ...     ...          ...       ...\n",
       "218676  218676  108082.0  240.0   802.0  1298.0   (0.0, 0.0)  0.000000\n",
       "218677  218677  108083.0  240.0  1450.0  1229.0   (0.0, 0.0)  0.000000\n",
       "218678  218678  108084.0  240.0  1938.0   312.0   (0.0, 0.0)  0.000000\n",
       "218679  218679  108085.0  240.0  1667.0   657.0   (0.0, 0.0)  0.000000\n",
       "218680  218680  108086.0  240.0  2004.0  1266.0   (0.0, 0.0)  0.000000\n",
       "\n",
       "[218681 rows x 7 columns]"
      ]
     },
     "execution_count": 5,
     "metadata": {},
     "output_type": "execute_result"
    }
   ],
   "source": [
    "tracks"
   ]
  },
  {
   "cell_type": "code",
   "execution_count": 6,
   "id": "87b6c86e-ed3f-48dd-b2f3-55604e2f58e8",
   "metadata": {},
   "outputs": [],
   "source": [
    "avg_speeds = Analytics.average_speed(tracks)"
   ]
  },
  {
   "cell_type": "markdown",
   "id": "1bdcfbdb-a9f3-4bf8-82f5-f52bb308af8f",
   "metadata": {
    "tags": []
   },
   "source": [
    "## Speed Counts\n",
    "We visualize speed counts below. \n",
    "\n",
    "On the left we count all cell speeds for each frame they were tracked. \n",
    "\n",
    "On the right we count the average speed for each cell tracked. "
   ]
  },
  {
   "cell_type": "code",
   "execution_count": 12,
   "id": "7653ef2d-1aac-4a67-9059-5b20aadd6125",
   "metadata": {},
   "outputs": [
    {
     "data": {
      "text/plain": [
       "Text(0.5, 0, 'Speed (in pixels per frame)')"
      ]
     },
     "execution_count": 12,
     "metadata": {},
     "output_type": "execute_result"
    },
    {
     "data": {
      "image/png": "[encoded data removed]",
      "text/plain": [
       "<Figure size 720x720 with 2 Axes>"
      ]
     },
     "metadata": {
      "needs_background": "light"
     },
     "output_type": "display_data"
    }
   ],
   "source": [
    "fig, (ax1, ax2) = plt.subplots(1,2,figsize = (10,10))\n",
    "ax1.hist(tracks['speed'], log = True)\n",
    "ax1.set_title('Cell speeds between frames')\n",
    "ax1.set_xlabel('Speed (in pixels per frame)')\n",
    "ax2.hist(avg_speeds, log= True)\n",
    "ax2.set_title('Average Cell Speeds')\n",
    "ax2.set_xlabel('Speed (in pixels per frame)')"
   ]
  },
  {
   "cell_type": "markdown",
   "id": "e2c266fe-19c7-477d-bf5a-89af27ad429c",
   "metadata": {},
   "source": [
    "## Check Neighborhoods\n",
    "\n",
    "Given a `tracks` DataFrame and a chosen tracked cell, the `check_nbhd` method outputs a subDataFrame containing all cells within a 4\\*diameter radius of the chosen cell. \n",
    "\n",
    "With this method we can then oberseve community behavior inside this small neighborhood of the chosen cell. This method will help us to answer questions like:\n",
    "1. What is the moving behavior of neighboring cells.\n",
    "2. Do neighboring cells have a higher rate of netosis near a cell that has already undergone netosis?\n",
    "3. Do neighboring cells avoid cells which have already gone though netosis?"
   ]
  },
  {
   "cell_type": "code",
   "execution_count": 32,
   "id": "fbf8c06d-3ed0-424d-af62-74c345ac8364",
   "metadata": {},
   "outputs": [
    {
     "data": {
      "text/html": [
       "<div>\n",
       "<style scoped>\n",
       "    .dataframe tbody tr th:only-of-type {\n",
       "        vertical-align: middle;\n",
       "    }\n",
       "\n",
       "    .dataframe tbody tr th {\n",
       "        vertical-align: top;\n",
       "    }\n",
       "\n",
       "    .dataframe thead th {\n",
       "        text-align: right;\n",
       "    }\n",
       "</style>\n",
       "<table border=\"1\" class=\"dataframe\">\n",
       "  <thead>\n",
       "    <tr style=\"text-align: right;\">\n",
       "      <th></th>\n",
       "      <th>Unnamed: 0</th>\n",
       "      <th>index</th>\n",
       "      <th>cell</th>\n",
       "      <th>frame</th>\n",
       "      <th>xcoord</th>\n",
       "      <th>ycoord</th>\n",
       "      <th>velocity</th>\n",
       "      <th>speed</th>\n",
       "    </tr>\n",
       "  </thead>\n",
       "  <tbody>\n",
       "    <tr>\n",
       "      <th>14</th>\n",
       "      <td>14</td>\n",
       "      <td>14</td>\n",
       "      <td>11.0</td>\n",
       "      <td>0.0</td>\n",
       "      <td>770.0</td>\n",
       "      <td>92.0</td>\n",
       "      <td>(0.0, 0.0)</td>\n",
       "      <td>0.000000</td>\n",
       "    </tr>\n",
       "    <tr>\n",
       "      <th>15</th>\n",
       "      <td>15</td>\n",
       "      <td>15</td>\n",
       "      <td>11.0</td>\n",
       "      <td>1.0</td>\n",
       "      <td>772.0</td>\n",
       "      <td>85.0</td>\n",
       "      <td>(2.0, -7.0)</td>\n",
       "      <td>7.280110</td>\n",
       "    </tr>\n",
       "    <tr>\n",
       "      <th>16</th>\n",
       "      <td>16</td>\n",
       "      <td>16</td>\n",
       "      <td>11.0</td>\n",
       "      <td>2.0</td>\n",
       "      <td>774.0</td>\n",
       "      <td>88.0</td>\n",
       "      <td>(2.0, 3.0)</td>\n",
       "      <td>3.605551</td>\n",
       "    </tr>\n",
       "    <tr>\n",
       "      <th>17</th>\n",
       "      <td>17</td>\n",
       "      <td>17</td>\n",
       "      <td>11.0</td>\n",
       "      <td>3.0</td>\n",
       "      <td>777.0</td>\n",
       "      <td>87.0</td>\n",
       "      <td>(3.0, -1.0)</td>\n",
       "      <td>3.162278</td>\n",
       "    </tr>\n",
       "    <tr>\n",
       "      <th>18</th>\n",
       "      <td>18</td>\n",
       "      <td>18</td>\n",
       "      <td>11.0</td>\n",
       "      <td>4.0</td>\n",
       "      <td>779.0</td>\n",
       "      <td>91.0</td>\n",
       "      <td>(2.0, 4.0)</td>\n",
       "      <td>4.472136</td>\n",
       "    </tr>\n",
       "    <tr>\n",
       "      <th>...</th>\n",
       "      <td>...</td>\n",
       "      <td>...</td>\n",
       "      <td>...</td>\n",
       "      <td>...</td>\n",
       "      <td>...</td>\n",
       "      <td>...</td>\n",
       "      <td>...</td>\n",
       "      <td>...</td>\n",
       "    </tr>\n",
       "    <tr>\n",
       "      <th>250</th>\n",
       "      <td>250</td>\n",
       "      <td>250</td>\n",
       "      <td>11.0</td>\n",
       "      <td>236.0</td>\n",
       "      <td>761.0</td>\n",
       "      <td>95.0</td>\n",
       "      <td>(0.0, 3.0)</td>\n",
       "      <td>3.000000</td>\n",
       "    </tr>\n",
       "    <tr>\n",
       "      <th>251</th>\n",
       "      <td>251</td>\n",
       "      <td>251</td>\n",
       "      <td>11.0</td>\n",
       "      <td>237.0</td>\n",
       "      <td>761.0</td>\n",
       "      <td>97.0</td>\n",
       "      <td>(0.0, 2.0)</td>\n",
       "      <td>2.000000</td>\n",
       "    </tr>\n",
       "    <tr>\n",
       "      <th>252</th>\n",
       "      <td>252</td>\n",
       "      <td>252</td>\n",
       "      <td>11.0</td>\n",
       "      <td>238.0</td>\n",
       "      <td>761.0</td>\n",
       "      <td>96.0</td>\n",
       "      <td>(0.0, -1.0)</td>\n",
       "      <td>1.000000</td>\n",
       "    </tr>\n",
       "    <tr>\n",
       "      <th>253</th>\n",
       "      <td>253</td>\n",
       "      <td>253</td>\n",
       "      <td>11.0</td>\n",
       "      <td>239.0</td>\n",
       "      <td>761.0</td>\n",
       "      <td>96.0</td>\n",
       "      <td>(0.0, 0.0)</td>\n",
       "      <td>0.000000</td>\n",
       "    </tr>\n",
       "    <tr>\n",
       "      <th>254</th>\n",
       "      <td>254</td>\n",
       "      <td>254</td>\n",
       "      <td>11.0</td>\n",
       "      <td>240.0</td>\n",
       "      <td>761.0</td>\n",
       "      <td>95.0</td>\n",
       "      <td>(0.0, -1.0)</td>\n",
       "      <td>1.000000</td>\n",
       "    </tr>\n",
       "  </tbody>\n",
       "</table>\n",
       "<p>241 rows × 8 columns</p>\n",
       "</div>"
      ],
      "text/plain": [
       "     Unnamed: 0  index  cell  frame  xcoord  ycoord     velocity     speed\n",
       "14           14     14  11.0    0.0   770.0    92.0   (0.0, 0.0)  0.000000\n",
       "15           15     15  11.0    1.0   772.0    85.0  (2.0, -7.0)  7.280110\n",
       "16           16     16  11.0    2.0   774.0    88.0   (2.0, 3.0)  3.605551\n",
       "17           17     17  11.0    3.0   777.0    87.0  (3.0, -1.0)  3.162278\n",
       "18           18     18  11.0    4.0   779.0    91.0   (2.0, 4.0)  4.472136\n",
       "..          ...    ...   ...    ...     ...     ...          ...       ...\n",
       "250         250    250  11.0  236.0   761.0    95.0   (0.0, 3.0)  3.000000\n",
       "251         251    251  11.0  237.0   761.0    97.0   (0.0, 2.0)  2.000000\n",
       "252         252    252  11.0  238.0   761.0    96.0  (0.0, -1.0)  1.000000\n",
       "253         253    253  11.0  239.0   761.0    96.0   (0.0, 0.0)  0.000000\n",
       "254         254    254  11.0  240.0   761.0    95.0  (0.0, -1.0)  1.000000\n",
       "\n",
       "[241 rows x 8 columns]"
      ]
     },
     "execution_count": 32,
     "metadata": {},
     "output_type": "execute_result"
    }
   ],
   "source": [
    "t = pd.read_csv('tracks_w_velocity.csv')\n",
    "c = t.loc[t['cell']==11]\n",
    "c"
   ]
  },
  {
   "cell_type": "code",
   "execution_count": 35,
   "id": "9fe47aa0-becc-4c75-96d2-eaed6850e56e",
   "metadata": {
    "tags": []
   },
   "outputs": [
    {
     "data": {
      "text/html": [
       "<div>\n",
       "<style scoped>\n",
       "    .dataframe tbody tr th:only-of-type {\n",
       "        vertical-align: middle;\n",
       "    }\n",
       "\n",
       "    .dataframe tbody tr th {\n",
       "        vertical-align: top;\n",
       "    }\n",
       "\n",
       "    .dataframe thead th {\n",
       "        text-align: right;\n",
       "    }\n",
       "</style>\n",
       "<table border=\"1\" class=\"dataframe\">\n",
       "  <thead>\n",
       "    <tr style=\"text-align: right;\">\n",
       "      <th></th>\n",
       "      <th>Unnamed: 0</th>\n",
       "      <th>index</th>\n",
       "      <th>cell</th>\n",
       "      <th>frame</th>\n",
       "      <th>xcoord</th>\n",
       "      <th>ycoord</th>\n",
       "      <th>velocity</th>\n",
       "      <th>speed</th>\n",
       "    </tr>\n",
       "  </thead>\n",
       "  <tbody>\n",
       "    <tr>\n",
       "      <th>0</th>\n",
       "      <td>14</td>\n",
       "      <td>14</td>\n",
       "      <td>11.0</td>\n",
       "      <td>0.0</td>\n",
       "      <td>770.0</td>\n",
       "      <td>92.0</td>\n",
       "      <td>(0.0, 0.0)</td>\n",
       "      <td>0.0</td>\n",
       "    </tr>\n",
       "    <tr>\n",
       "      <th>1</th>\n",
       "      <td>1518</td>\n",
       "      <td>1518</td>\n",
       "      <td>104.0</td>\n",
       "      <td>0.0</td>\n",
       "      <td>832.0</td>\n",
       "      <td>122.0</td>\n",
       "      <td>(0.0, 0.0)</td>\n",
       "      <td>0.0</td>\n",
       "    </tr>\n",
       "    <tr>\n",
       "      <th>2</th>\n",
       "      <td>4524</td>\n",
       "      <td>4524</td>\n",
       "      <td>266.0</td>\n",
       "      <td>0.0</td>\n",
       "      <td>797.0</td>\n",
       "      <td>169.0</td>\n",
       "      <td>(0.0, 0.0)</td>\n",
       "      <td>0.0</td>\n",
       "    </tr>\n",
       "    <tr>\n",
       "      <th>3</th>\n",
       "      <td>6896</td>\n",
       "      <td>6896</td>\n",
       "      <td>483.0</td>\n",
       "      <td>0.0</td>\n",
       "      <td>802.0</td>\n",
       "      <td>88.0</td>\n",
       "      <td>(0.0, 0.0)</td>\n",
       "      <td>0.0</td>\n",
       "    </tr>\n",
       "    <tr>\n",
       "      <th>4</th>\n",
       "      <td>8501</td>\n",
       "      <td>8501</td>\n",
       "      <td>525.0</td>\n",
       "      <td>0.0</td>\n",
       "      <td>781.0</td>\n",
       "      <td>53.0</td>\n",
       "      <td>(0.0, 0.0)</td>\n",
       "      <td>0.0</td>\n",
       "    </tr>\n",
       "    <tr>\n",
       "      <th>...</th>\n",
       "      <td>...</td>\n",
       "      <td>...</td>\n",
       "      <td>...</td>\n",
       "      <td>...</td>\n",
       "      <td>...</td>\n",
       "      <td>...</td>\n",
       "      <td>...</td>\n",
       "      <td>...</td>\n",
       "    </tr>\n",
       "    <tr>\n",
       "      <th>2023</th>\n",
       "      <td>48397</td>\n",
       "      <td>48397</td>\n",
       "      <td>2594.0</td>\n",
       "      <td>240.0</td>\n",
       "      <td>756.0</td>\n",
       "      <td>146.0</td>\n",
       "      <td>(0.0, -1.0)</td>\n",
       "      <td>1.0</td>\n",
       "    </tr>\n",
       "    <tr>\n",
       "      <th>2024</th>\n",
       "      <td>85356</td>\n",
       "      <td>85356</td>\n",
       "      <td>9085.0</td>\n",
       "      <td>240.0</td>\n",
       "      <td>689.0</td>\n",
       "      <td>92.0</td>\n",
       "      <td>(0.0, -1.0)</td>\n",
       "      <td>1.0</td>\n",
       "    </tr>\n",
       "    <tr>\n",
       "      <th>2025</th>\n",
       "      <td>102075</td>\n",
       "      <td>102075</td>\n",
       "      <td>18239.0</td>\n",
       "      <td>240.0</td>\n",
       "      <td>827.0</td>\n",
       "      <td>63.0</td>\n",
       "      <td>(0.0, -1.0)</td>\n",
       "      <td>1.0</td>\n",
       "    </tr>\n",
       "    <tr>\n",
       "      <th>2026</th>\n",
       "      <td>147739</td>\n",
       "      <td>147739</td>\n",
       "      <td>49263.0</td>\n",
       "      <td>240.0</td>\n",
       "      <td>813.0</td>\n",
       "      <td>155.0</td>\n",
       "      <td>(0.0, -1.0)</td>\n",
       "      <td>1.0</td>\n",
       "    </tr>\n",
       "    <tr>\n",
       "      <th>2027</th>\n",
       "      <td>181147</td>\n",
       "      <td>181147</td>\n",
       "      <td>74767.0</td>\n",
       "      <td>240.0</td>\n",
       "      <td>722.0</td>\n",
       "      <td>23.0</td>\n",
       "      <td>(-2.0, 0.0)</td>\n",
       "      <td>2.0</td>\n",
       "    </tr>\n",
       "  </tbody>\n",
       "</table>\n",
       "<p>2028 rows × 8 columns</p>\n",
       "</div>"
      ],
      "text/plain": [
       "      Unnamed: 0   index     cell  frame  xcoord  ycoord     velocity  speed\n",
       "0             14      14     11.0    0.0   770.0    92.0   (0.0, 0.0)    0.0\n",
       "1           1518    1518    104.0    0.0   832.0   122.0   (0.0, 0.0)    0.0\n",
       "2           4524    4524    266.0    0.0   797.0   169.0   (0.0, 0.0)    0.0\n",
       "3           6896    6896    483.0    0.0   802.0    88.0   (0.0, 0.0)    0.0\n",
       "4           8501    8501    525.0    0.0   781.0    53.0   (0.0, 0.0)    0.0\n",
       "...          ...     ...      ...    ...     ...     ...          ...    ...\n",
       "2023       48397   48397   2594.0  240.0   756.0   146.0  (0.0, -1.0)    1.0\n",
       "2024       85356   85356   9085.0  240.0   689.0    92.0  (0.0, -1.0)    1.0\n",
       "2025      102075  102075  18239.0  240.0   827.0    63.0  (0.0, -1.0)    1.0\n",
       "2026      147739  147739  49263.0  240.0   813.0   155.0  (0.0, -1.0)    1.0\n",
       "2027      181147  181147  74767.0  240.0   722.0    23.0  (-2.0, 0.0)    2.0\n",
       "\n",
       "[2028 rows x 8 columns]"
      ]
     },
     "execution_count": 35,
     "metadata": {},
     "output_type": "execute_result"
    },
    {
     "name": "stderr",
     "output_type": "stream",
     "text": [
      "/home/hfriz/.local/lib/python3.8/site-packages/matplotlib/quiver.py:689: RuntimeWarning: divide by zero encountered in double_scalars\n",
      "  length = a * (widthu_per_lenu / (self.scale * self.width))\n",
      "/home/hfriz/.local/lib/python3.8/site-packages/matplotlib/quiver.py:689: RuntimeWarning: invalid value encountered in multiply\n",
      "  length = a * (widthu_per_lenu / (self.scale * self.width))\n"
     ]
    },
    {
     "data": {
      "image/png": "[encoded data removed]",
      "text/plain": [
       "<Figure size 432x288 with 1 Axes>"
      ]
     },
     "metadata": {
      "needs_background": "light"
     },
     "output_type": "display_data"
    },
    {
     "data": {
      "image/png": "[encoded data removed]",
      "text/plain": [
       "<Figure size 432x288 with 1 Axes>"
      ]
     },
     "metadata": {
      "needs_background": "light"
     },
     "output_type": "display_data"
    },
    {
     "data": {
      "image/png": "[encoded data removed]",
      "text/plain": [
       "<Figure size 432x288 with 1 Axes>"
      ]
     },
     "metadata": {
      "needs_background": "light"
     },
     "output_type": "display_data"
    },
    {
     "data": {
      "image/png": "[encoded data removed]",
      "text/plain": [
       "<Figure size 432x288 with 1 Axes>"
      ]
     },
     "metadata": {
      "needs_background": "light"
     },
     "output_type": "display_data"
    },
    {
     "data": {
      "image/png": "[encoded data removed]",
      "text/plain": [
       "<Figure size 432x288 with 1 Axes>"
      ]
     },
     "metadata": {
      "needs_background": "light"
     },
     "output_type": "display_data"
    }
   ],
   "source": [
    "nbhd = Analytics.check_nbhd(c,t, plots = True, max_plots=5)\n",
    "nbhd"
   ]
  },
  {
   "cell_type": "code",
   "execution_count": 36,
   "id": "592047fe-158c-4d9f-aee0-b920969abb9e",
   "metadata": {},
   "outputs": [
    {
     "name": "stdout",
     "output_type": "stream",
     "text": [
      "1160    (0.0, 1.0)\n",
      "Name: velocity, dtype: object\n"
     ]
    },
    {
     "data": {
      "text/plain": [
       "(array([5., 0., 0., 1., 0., 0., 1., 0., 0., 1.]),\n",
       " array([0. , 0.3, 0.6, 0.9, 1.2, 1.5, 1.8, 2.1, 2.4, 2.7, 3. ]),\n",
       " <BarContainer object of 10 artists>)"
      ]
     },
     "execution_count": 36,
     "metadata": {},
     "output_type": "execute_result"
    },
    {
     "data": {
      "image/png": "[encoded data removed]",
      "text/plain": [
       "<Figure size 720x576 with 1 Axes>"
      ]
     },
     "metadata": {
      "needs_background": "light"
     },
     "output_type": "display_data"
    }
   ],
   "source": [
    "print(nbhd.loc[(nbhd['frame']==150) & (nbhd['cell']==11)]['velocity'])\n",
    "f, a = plt.subplots(figsize=(10,8))\n",
    "a.hist(nbhd.loc[nbhd['frame']==150]['velocity'])"
   ]
  },
  {
   "cell_type": "code",
   "execution_count": null,
   "id": "61a10b42-6b35-4433-afb6-58cfb500af0f",
   "metadata": {},
   "outputs": [],
   "source": []
  }
 ],
 "metadata": {
  "kernelspec": {
   "display_name": "Python 3 (ipykernel)",
   "language": "python",
   "name": "python3"
  },
  "language_info": {
   "codemirror_mode": {
    "name": "ipython",
    "version": 3
   },
   "file_extension": ".py",
   "mimetype": "text/x-python",
   "name": "python",
   "nbconvert_exporter": "python",
   "pygments_lexer": "ipython3",
   "version": "3.8.10"
  }
 },
 "nbformat": 4,
 "nbformat_minor": 5
}
