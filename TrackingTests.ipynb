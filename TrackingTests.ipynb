{
 "cells": [
  {
   "cell_type": "code",
   "execution_count": 1,
   "id": "b2f38609-5917-4e11-acb0-38585165174d",
   "metadata": {},
   "outputs": [],
   "source": [
    "import Analytics, skimage\n",
    "import numpy as np\n",
    "import pandas as pd\n",
    "import matplotlib.pyplot as plt"
   ]
  },
  {
   "cell_type": "markdown",
   "id": "3a4238c2-b097-4cda-a6d7-817a9a6c1b17",
   "metadata": {
    "tags": []
   },
   "source": [
    "## Tracking Tests\n",
    "The following notebook will be used to test how to track cells between frames for our samples. \n",
    "Specifically, we want to track velocity of cells as they move between frames as well as tracking correlation between cell movements.\n",
    "\n",
    "Are they all moving in the same direction?\n",
    "\n",
    "Is this migration actual cell movement or is it caused by ulterior fluid flow? \n",
    "\n",
    "Along with migration we can also construct some metrics to determine swarming behavior among neutraphils."
   ]
  },
  {
   "cell_type": "markdown",
   "id": "d2bfa91c-403d-4feb-8121-fc783fd5044e",
   "metadata": {},
   "source": [
    "Note that if we use *Bayesian Tracker* model `btrack`, then the track objects have the output of a `pandas.DataFrame` with each cell having its own `id`, time $t$, coordinates $x$, $y$, as well as a column for any statistic you would like to track from the `skimage.measure.region_props.attributes` list found [here](https://scikit-image.org/docs/stable/api/skimage.measure.html#skimage.measure.regionprops).\n",
    "\n",
    "Examples from the *Bayesian Tracker* model can be found [here](https://github.com/quantumjot/btrack/blob/main/examples/example_tracking_pipeline-features.ipynb)."
   ]
  },
  {
   "cell_type": "code",
   "execution_count": 2,
   "id": "791192ba-1f6d-43d2-9369-ae705d0e66c9",
   "metadata": {},
   "outputs": [],
   "source": [
    "tracks = pd.read_csv('tracks.csv')\n",
    "tracks.rename(columns={'Unnamed: 0': 'index', '0': 'cell', '1': 'frame', '2':'xcoord', '3':'ycoord'}, inplace=True)"
   ]
  },
  {
   "cell_type": "code",
   "execution_count": 7,
   "id": "72349f14-f011-496a-b62c-c1fc3f04cb0b",
   "metadata": {},
   "outputs": [
    {
     "data": {
      "text/plain": [
       "Index(['index', 'cell', 'frame', 'xcoord', 'ycoord'], dtype='object')"
      ]
     },
     "execution_count": 7,
     "metadata": {},
     "output_type": "execute_result"
    }
   ],
   "source": [
    "tracks.columns"
   ]
  },
  {
   "cell_type": "code",
   "execution_count": 11,
   "id": "2d2d2483-51d7-43ef-a247-e3722657b881",
   "metadata": {},
   "outputs": [
    {
     "data": {
      "text/plain": [
       "['cell', 'frame', 'xcoord', 'ycoord']"
      ]
     },
     "execution_count": 11,
     "metadata": {},
     "output_type": "execute_result"
    }
   ],
   "source": [
    "a = [col for col in tracks.columns]\n",
    "a.remove('index')\n",
    "a"
   ]
  },
  {
   "cell_type": "code",
   "execution_count": 3,
   "id": "e8549768-61bd-4305-b62c-d040d4d44f54",
   "metadata": {},
   "outputs": [
    {
     "ename": "KeyError",
     "evalue": "'area'",
     "output_type": "error",
     "traceback": [
      "\u001b[0;31m---------------------------------------------------------------------------\u001b[0m",
      "\u001b[0;31mKeyError\u001b[0m                                  Traceback (most recent call last)",
      "File \u001b[0;32m~/.local/lib/python3.8/site-packages/pandas/core/indexes/base.py:3629\u001b[0m, in \u001b[0;36mIndex.get_loc\u001b[0;34m(self, key, method, tolerance)\u001b[0m\n\u001b[1;32m   3628\u001b[0m \u001b[38;5;28;01mtry\u001b[39;00m:\n\u001b[0;32m-> 3629\u001b[0m     \u001b[38;5;28;01mreturn\u001b[39;00m \u001b[38;5;28;43mself\u001b[39;49m\u001b[38;5;241;43m.\u001b[39;49m\u001b[43m_engine\u001b[49m\u001b[38;5;241;43m.\u001b[39;49m\u001b[43mget_loc\u001b[49m\u001b[43m(\u001b[49m\u001b[43mcasted_key\u001b[49m\u001b[43m)\u001b[49m\n\u001b[1;32m   3630\u001b[0m \u001b[38;5;28;01mexcept\u001b[39;00m \u001b[38;5;167;01mKeyError\u001b[39;00m \u001b[38;5;28;01mas\u001b[39;00m err:\n",
      "File \u001b[0;32m~/.local/lib/python3.8/site-packages/pandas/_libs/index.pyx:136\u001b[0m, in \u001b[0;36mpandas._libs.index.IndexEngine.get_loc\u001b[0;34m()\u001b[0m\n",
      "File \u001b[0;32m~/.local/lib/python3.8/site-packages/pandas/_libs/index.pyx:163\u001b[0m, in \u001b[0;36mpandas._libs.index.IndexEngine.get_loc\u001b[0;34m()\u001b[0m\n",
      "File \u001b[0;32mpandas/_libs/hashtable_class_helper.pxi:5198\u001b[0m, in \u001b[0;36mpandas._libs.hashtable.PyObjectHashTable.get_item\u001b[0;34m()\u001b[0m\n",
      "File \u001b[0;32mpandas/_libs/hashtable_class_helper.pxi:5206\u001b[0m, in \u001b[0;36mpandas._libs.hashtable.PyObjectHashTable.get_item\u001b[0;34m()\u001b[0m\n",
      "\u001b[0;31mKeyError\u001b[0m: 'area'",
      "\nThe above exception was the direct cause of the following exception:\n",
      "\u001b[0;31mKeyError\u001b[0m                                  Traceback (most recent call last)",
      "Input \u001b[0;32mIn [3]\u001b[0m, in \u001b[0;36m<cell line: 1>\u001b[0;34m()\u001b[0m\n\u001b[0;32m----> 1\u001b[0m tracks \u001b[38;5;241m=\u001b[39m \u001b[43mAnalytics\u001b[49m\u001b[38;5;241;43m.\u001b[39;49m\u001b[43mtracks_pipeline\u001b[49m\u001b[43m(\u001b[49m\u001b[43mtracks\u001b[49m\u001b[43m)\u001b[49m\n",
      "File \u001b[0;32m~/SGTCIA/Analytics.py:463\u001b[0m, in \u001b[0;36mtracks_pipeline\u001b[0;34m(raw_tracks_data, counts, title)\u001b[0m\n\u001b[1;32m    461\u001b[0m tracks \u001b[38;5;241m=\u001b[39m raw_tracks_data\u001b[38;5;241m.\u001b[39mcopy()\n\u001b[1;32m    462\u001b[0m tracks \u001b[38;5;241m=\u001b[39m get_velocities(tracks)\n\u001b[0;32m--> 463\u001b[0m tracks \u001b[38;5;241m=\u001b[39m \u001b[43mget_morphology\u001b[49m\u001b[43m(\u001b[49m\u001b[43mtracks\u001b[49m\u001b[43m)\u001b[49m\n\u001b[1;32m    464\u001b[0m \u001b[38;5;28;01mif\u001b[39;00m counts \u001b[38;5;241m==\u001b[39m \u001b[38;5;28;01mTrue\u001b[39;00m:\n\u001b[1;32m    465\u001b[0m     sample_ct_df \u001b[38;5;241m=\u001b[39m sample_counts(tracks, title \u001b[38;5;241m=\u001b[39m title)\n",
      "File \u001b[0;32m~/SGTCIA/Analytics.py:445\u001b[0m, in \u001b[0;36mget_morphology\u001b[0;34m(tracks)\u001b[0m\n\u001b[1;32m    443\u001b[0m diameter \u001b[38;5;241m=\u001b[39m []\n\u001b[1;32m    444\u001b[0m \u001b[38;5;28;01mfor\u001b[39;00m index, row \u001b[38;5;129;01min\u001b[39;00m tracks\u001b[38;5;241m.\u001b[39miterrows():\n\u001b[0;32m--> 445\u001b[0m     cell_round \u001b[38;5;241m=\u001b[39m (\u001b[38;5;241m4\u001b[39m\u001b[38;5;241m*\u001b[39mnp\u001b[38;5;241m.\u001b[39mpi\u001b[38;5;241m*\u001b[39m\u001b[43mrow\u001b[49m\u001b[43m[\u001b[49m\u001b[38;5;124;43m'\u001b[39;49m\u001b[38;5;124;43marea\u001b[39;49m\u001b[38;5;124;43m'\u001b[39;49m\u001b[43m]\u001b[49m)\u001b[38;5;241m/\u001b[39m(row[\u001b[38;5;124m'\u001b[39m\u001b[38;5;124mperimeter\u001b[39m\u001b[38;5;124m'\u001b[39m]\u001b[38;5;241m*\u001b[39m\u001b[38;5;241m*\u001b[39m\u001b[38;5;241m2\u001b[39m)\n\u001b[1;32m    446\u001b[0m     cell_diam \u001b[38;5;241m=\u001b[39m \u001b[38;5;241m0.5\u001b[39m\u001b[38;5;241m*\u001b[39m(row[\u001b[38;5;124m'\u001b[39m\u001b[38;5;124mmajor_axis_length\u001b[39m\u001b[38;5;124m'\u001b[39m]\u001b[38;5;241m+\u001b[39mrow[\u001b[38;5;124m'\u001b[39m\u001b[38;5;124mminor_axis_length\u001b[39m\u001b[38;5;124m'\u001b[39m])\n\u001b[1;32m    447\u001b[0m     roundess\u001b[38;5;241m.\u001b[39mappend(cell_round)\n",
      "File \u001b[0;32m~/.local/lib/python3.8/site-packages/pandas/core/series.py:958\u001b[0m, in \u001b[0;36mSeries.__getitem__\u001b[0;34m(self, key)\u001b[0m\n\u001b[1;32m    955\u001b[0m     \u001b[38;5;28;01mreturn\u001b[39;00m \u001b[38;5;28mself\u001b[39m\u001b[38;5;241m.\u001b[39m_values[key]\n\u001b[1;32m    957\u001b[0m \u001b[38;5;28;01melif\u001b[39;00m key_is_scalar:\n\u001b[0;32m--> 958\u001b[0m     \u001b[38;5;28;01mreturn\u001b[39;00m \u001b[38;5;28;43mself\u001b[39;49m\u001b[38;5;241;43m.\u001b[39;49m\u001b[43m_get_value\u001b[49m\u001b[43m(\u001b[49m\u001b[43mkey\u001b[49m\u001b[43m)\u001b[49m\n\u001b[1;32m    960\u001b[0m \u001b[38;5;28;01mif\u001b[39;00m is_hashable(key):\n\u001b[1;32m    961\u001b[0m     \u001b[38;5;66;03m# Otherwise index.get_value will raise InvalidIndexError\u001b[39;00m\n\u001b[1;32m    962\u001b[0m     \u001b[38;5;28;01mtry\u001b[39;00m:\n\u001b[1;32m    963\u001b[0m         \u001b[38;5;66;03m# For labels that don't resolve as scalars like tuples and frozensets\u001b[39;00m\n",
      "File \u001b[0;32m~/.local/lib/python3.8/site-packages/pandas/core/series.py:1069\u001b[0m, in \u001b[0;36mSeries._get_value\u001b[0;34m(self, label, takeable)\u001b[0m\n\u001b[1;32m   1066\u001b[0m     \u001b[38;5;28;01mreturn\u001b[39;00m \u001b[38;5;28mself\u001b[39m\u001b[38;5;241m.\u001b[39m_values[label]\n\u001b[1;32m   1068\u001b[0m \u001b[38;5;66;03m# Similar to Index.get_value, but we do not fall back to positional\u001b[39;00m\n\u001b[0;32m-> 1069\u001b[0m loc \u001b[38;5;241m=\u001b[39m \u001b[38;5;28;43mself\u001b[39;49m\u001b[38;5;241;43m.\u001b[39;49m\u001b[43mindex\u001b[49m\u001b[38;5;241;43m.\u001b[39;49m\u001b[43mget_loc\u001b[49m\u001b[43m(\u001b[49m\u001b[43mlabel\u001b[49m\u001b[43m)\u001b[49m\n\u001b[1;32m   1070\u001b[0m \u001b[38;5;28;01mreturn\u001b[39;00m \u001b[38;5;28mself\u001b[39m\u001b[38;5;241m.\u001b[39mindex\u001b[38;5;241m.\u001b[39m_get_values_for_loc(\u001b[38;5;28mself\u001b[39m, loc, label)\n",
      "File \u001b[0;32m~/.local/lib/python3.8/site-packages/pandas/core/indexes/base.py:3631\u001b[0m, in \u001b[0;36mIndex.get_loc\u001b[0;34m(self, key, method, tolerance)\u001b[0m\n\u001b[1;32m   3629\u001b[0m     \u001b[38;5;28;01mreturn\u001b[39;00m \u001b[38;5;28mself\u001b[39m\u001b[38;5;241m.\u001b[39m_engine\u001b[38;5;241m.\u001b[39mget_loc(casted_key)\n\u001b[1;32m   3630\u001b[0m \u001b[38;5;28;01mexcept\u001b[39;00m \u001b[38;5;167;01mKeyError\u001b[39;00m \u001b[38;5;28;01mas\u001b[39;00m err:\n\u001b[0;32m-> 3631\u001b[0m     \u001b[38;5;28;01mraise\u001b[39;00m \u001b[38;5;167;01mKeyError\u001b[39;00m(key) \u001b[38;5;28;01mfrom\u001b[39;00m \u001b[38;5;21;01merr\u001b[39;00m\n\u001b[1;32m   3632\u001b[0m \u001b[38;5;28;01mexcept\u001b[39;00m \u001b[38;5;167;01mTypeError\u001b[39;00m:\n\u001b[1;32m   3633\u001b[0m     \u001b[38;5;66;03m# If we have a listlike key, _check_indexing_error will raise\u001b[39;00m\n\u001b[1;32m   3634\u001b[0m     \u001b[38;5;66;03m#  InvalidIndexError. Otherwise we fall through and re-raise\u001b[39;00m\n\u001b[1;32m   3635\u001b[0m     \u001b[38;5;66;03m#  the TypeError.\u001b[39;00m\n\u001b[1;32m   3636\u001b[0m     \u001b[38;5;28mself\u001b[39m\u001b[38;5;241m.\u001b[39m_check_indexing_error(key)\n",
      "\u001b[0;31mKeyError\u001b[0m: 'area'"
     ]
    }
   ],
   "source": [
    "tracks = Analytics.tracks_pipeline(tracks)"
   ]
  },
  {
   "cell_type": "code",
   "execution_count": null,
   "id": "a7d414ee-2242-4f2d-8b1e-ecd0f91f62c2",
   "metadata": {},
   "outputs": [],
   "source": [
    "tracks.head()"
   ]
  },
  {
   "cell_type": "code",
   "execution_count": 3,
   "id": "2621b8b6-0bdc-4e8e-b446-ac5347093c47",
   "metadata": {},
   "outputs": [],
   "source": [
    "#tracks['velocity'] = [(np.nan,np.nan)]*len(tracks)\n",
    "#tracks['speed']"
   ]
  },
  {
   "cell_type": "code",
   "execution_count": 62,
   "id": "95dd5115-7707-4792-81c8-0d30b5093d7e",
   "metadata": {},
   "outputs": [
    {
     "data": {
      "text/html": [
       "<div>\n",
       "<style scoped>\n",
       "    .dataframe tbody tr th:only-of-type {\n",
       "        vertical-align: middle;\n",
       "    }\n",
       "\n",
       "    .dataframe tbody tr th {\n",
       "        vertical-align: top;\n",
       "    }\n",
       "\n",
       "    .dataframe thead th {\n",
       "        text-align: right;\n",
       "    }\n",
       "</style>\n",
       "<table border=\"1\" class=\"dataframe\">\n",
       "  <thead>\n",
       "    <tr style=\"text-align: right;\">\n",
       "      <th></th>\n",
       "      <th>index</th>\n",
       "      <th>cell</th>\n",
       "      <th>frame</th>\n",
       "      <th>xcoord</th>\n",
       "      <th>ycoord</th>\n",
       "      <th>velocities</th>\n",
       "      <th>speeds</th>\n",
       "    </tr>\n",
       "  </thead>\n",
       "  <tbody>\n",
       "    <tr>\n",
       "      <th>1</th>\n",
       "      <td>1</td>\n",
       "      <td>2.0</td>\n",
       "      <td>0.0</td>\n",
       "      <td>1023.0</td>\n",
       "      <td>943.0</td>\n",
       "      <td>(0.0, 0.0)</td>\n",
       "      <td>0.000000</td>\n",
       "    </tr>\n",
       "    <tr>\n",
       "      <th>2</th>\n",
       "      <td>2</td>\n",
       "      <td>2.0</td>\n",
       "      <td>1.0</td>\n",
       "      <td>1027.0</td>\n",
       "      <td>948.0</td>\n",
       "      <td>(4.0, 5.0)</td>\n",
       "      <td>6.403124</td>\n",
       "    </tr>\n",
       "    <tr>\n",
       "      <th>3</th>\n",
       "      <td>3</td>\n",
       "      <td>2.0</td>\n",
       "      <td>2.0</td>\n",
       "      <td>1026.0</td>\n",
       "      <td>949.0</td>\n",
       "      <td>(-1.0, 1.0)</td>\n",
       "      <td>1.414214</td>\n",
       "    </tr>\n",
       "    <tr>\n",
       "      <th>4</th>\n",
       "      <td>4</td>\n",
       "      <td>2.0</td>\n",
       "      <td>3.0</td>\n",
       "      <td>1028.0</td>\n",
       "      <td>947.0</td>\n",
       "      <td>(2.0, -2.0)</td>\n",
       "      <td>2.828427</td>\n",
       "    </tr>\n",
       "    <tr>\n",
       "      <th>5</th>\n",
       "      <td>5</td>\n",
       "      <td>2.0</td>\n",
       "      <td>4.0</td>\n",
       "      <td>1029.0</td>\n",
       "      <td>939.0</td>\n",
       "      <td>(1.0, -8.0)</td>\n",
       "      <td>8.062258</td>\n",
       "    </tr>\n",
       "  </tbody>\n",
       "</table>\n",
       "</div>"
      ],
      "text/plain": [
       "   index  cell  frame  xcoord  ycoord   velocities    speeds\n",
       "1      1   2.0    0.0  1023.0   943.0   (0.0, 0.0)  0.000000\n",
       "2      2   2.0    1.0  1027.0   948.0   (4.0, 5.0)  6.403124\n",
       "3      3   2.0    2.0  1026.0   949.0  (-1.0, 1.0)  1.414214\n",
       "4      4   2.0    3.0  1028.0   947.0  (2.0, -2.0)  2.828427\n",
       "5      5   2.0    4.0  1029.0   939.0  (1.0, -8.0)  8.062258"
      ]
     },
     "execution_count": 62,
     "metadata": {},
     "output_type": "execute_result"
    }
   ],
   "source": [
    "cell = tracks.loc[tracks['cell'] == 2]\n",
    "cell"
   ]
  },
  {
   "cell_type": "code",
   "execution_count": 4,
   "id": "e7798e6b-4368-4e66-ac35-e896e4cea978",
   "metadata": {
    "tags": []
   },
   "outputs": [
    {
     "data": {
      "text/plain": [
       "(array([ 0.,  4., -1.,  2.,  1.]),\n",
       " array([ 0.,  5.,  1., -2., -8.]),\n",
       " array([[ 0.,  0.],\n",
       "        [ 4.,  5.],\n",
       "        [-1.,  1.],\n",
       "        [ 2., -2.],\n",
       "        [ 1., -8.]]))"
      ]
     },
     "execution_count": 4,
     "metadata": {},
     "output_type": "execute_result"
    }
   ],
   "source": [
    "x = np.diff(cell['xcoord'], prepend = cell.at[1,'xcoord'])\n",
    "y = np.diff(cell['ycoord'], prepend = cell.at[1,'ycoord'])\n",
    "vel = np.asarray([[x[i],y[i]] for i in range(len(x))])\n",
    "x,y,vel"
   ]
  },
  {
   "cell_type": "code",
   "execution_count": 29,
   "id": "c3efec72-b95f-4dcb-9919-190379a3d53b",
   "metadata": {
    "tags": []
   },
   "outputs": [],
   "source": [
    "velocities = []\n",
    "speeds = []\n",
    "for i in range(int(tracks['cell'].min()),int(tracks['cell'].max())+1):\n",
    "    cell = tracks.loc[tracks['cell'] == i]\n",
    "    xvel = np.diff(cell['xcoord'], prepend = cell.at[cell['index'].min(), 'xcoord'])\n",
    "    yvel = np.diff(cell['ycoord'], prepend = cell.at[cell['index'].min(), 'ycoord'])\n",
    "    velocities.extend([(xvel[k],yvel[k]) for k in range(len(xvel))])\n",
    "    for k in range(len(xvel)):      \n",
    "        speed = np.linalg.norm(np.asarray([xvel[k],yvel[k]]), axis = 0)\n",
    "        speeds.append(speed)"
   ]
  },
  {
   "cell_type": "code",
   "execution_count": 30,
   "id": "c7e1fa3a-4888-4073-b918-02bb3c7d9af5",
   "metadata": {},
   "outputs": [],
   "source": [
    "tracks['velocities'] = velocities\n",
    "tracks['speeds'] = speeds"
   ]
  },
  {
   "cell_type": "code",
   "execution_count": 43,
   "id": "dde37e7a-d99e-4c78-92eb-ff9fc61f4a6f",
   "metadata": {},
   "outputs": [],
   "source": [
    "avg_speeds = []\n",
    "for i in range(int(tracks['cell'].min()), int(tracks['cell'].max()+1)):\n",
    "    cell = tracks.loc[tracks['cell'] == i]['speeds']\n",
    "    avg_speeds.append(np.average(cell.values))"
   ]
  },
  {
   "cell_type": "code",
   "execution_count": 50,
   "id": "7653ef2d-1aac-4a67-9059-5b20aadd6125",
   "metadata": {},
   "outputs": [
    {
     "data": {
      "text/plain": [
       "Text(0.5, 1.0, 'Average Cell Speeds')"
      ]
     },
     "execution_count": 50,
     "metadata": {},
     "output_type": "execute_result"
    },
    {
     "data": {
      "image/png": "[encoded data removed]",
      "text/plain": [
       "<Figure size 720x720 with 2 Axes>"
      ]
     },
     "metadata": {
      "needs_background": "light"
     },
     "output_type": "display_data"
    }
   ],
   "source": [
    "fig, (ax1, ax2) = plt.subplots(1,2,figsize = (10,10))\n",
    "ax1.hist(tracks['speeds'], log = True)\n",
    "ax1.set_title('Cell speeds between frames')\n",
    "ax2.hist(avg_speeds, log= True)\n",
    "ax2.set_title('Average Cell Speeds')"
   ]
  },
  {
   "cell_type": "code",
   "execution_count": 58,
   "id": "ad8373e5-aca1-4541-be32-ea35922147b6",
   "metadata": {},
   "outputs": [],
   "source": [
    "tracks.to_csv('tracks_w_velocity.csv')"
   ]
  },
  {
   "cell_type": "code",
   "execution_count": 60,
   "id": "b7b0d3df-ac6a-4cc6-beba-a6532eb82e92",
   "metadata": {},
   "outputs": [],
   "source": [
    "new_df = pd.DataFrame()"
   ]
  },
  {
   "cell_type": "code",
   "execution_count": 61,
   "id": "e72bc600-e68e-4c92-a8a6-16fd197027a3",
   "metadata": {},
   "outputs": [],
   "source": [
    "new_df = tracks.loc[(10 < tracks['xcoord'] ) & (tracks['xcoord']< 20)]"
   ]
  },
  {
   "cell_type": "code",
   "execution_count": 2,
   "id": "fbf8c06d-3ed0-424d-af62-74c345ac8364",
   "metadata": {},
   "outputs": [],
   "source": [
    "t = pd.read_csv('tracks_w_velocity.csv')"
   ]
  },
  {
   "cell_type": "code",
   "execution_count": 7,
   "id": "eb08962b-538d-4da5-b7ee-14bb452a074f",
   "metadata": {},
   "outputs": [
    {
     "data": {
      "text/html": [
       "<div>\n",
       "<style scoped>\n",
       "    .dataframe tbody tr th:only-of-type {\n",
       "        vertical-align: middle;\n",
       "    }\n",
       "\n",
       "    .dataframe tbody tr th {\n",
       "        vertical-align: top;\n",
       "    }\n",
       "\n",
       "    .dataframe thead th {\n",
       "        text-align: right;\n",
       "    }\n",
       "</style>\n",
       "<table border=\"1\" class=\"dataframe\">\n",
       "  <thead>\n",
       "    <tr style=\"text-align: right;\">\n",
       "      <th></th>\n",
       "      <th>Unnamed: 0</th>\n",
       "      <th>index</th>\n",
       "      <th>cell</th>\n",
       "      <th>frame</th>\n",
       "      <th>xcoord</th>\n",
       "      <th>ycoord</th>\n",
       "      <th>velocities</th>\n",
       "      <th>speeds</th>\n",
       "    </tr>\n",
       "  </thead>\n",
       "  <tbody>\n",
       "    <tr>\n",
       "      <th>0</th>\n",
       "      <td>0</td>\n",
       "      <td>0</td>\n",
       "      <td>1.0</td>\n",
       "      <td>0.0</td>\n",
       "      <td>1742.0</td>\n",
       "      <td>459.0</td>\n",
       "      <td>(0.0, 0.0)</td>\n",
       "      <td>0.000000</td>\n",
       "    </tr>\n",
       "    <tr>\n",
       "      <th>1</th>\n",
       "      <td>1</td>\n",
       "      <td>1</td>\n",
       "      <td>2.0</td>\n",
       "      <td>0.0</td>\n",
       "      <td>1023.0</td>\n",
       "      <td>943.0</td>\n",
       "      <td>(0.0, 0.0)</td>\n",
       "      <td>0.000000</td>\n",
       "    </tr>\n",
       "    <tr>\n",
       "      <th>2</th>\n",
       "      <td>2</td>\n",
       "      <td>2</td>\n",
       "      <td>2.0</td>\n",
       "      <td>1.0</td>\n",
       "      <td>1027.0</td>\n",
       "      <td>948.0</td>\n",
       "      <td>(4.0, 5.0)</td>\n",
       "      <td>6.403124</td>\n",
       "    </tr>\n",
       "    <tr>\n",
       "      <th>3</th>\n",
       "      <td>3</td>\n",
       "      <td>3</td>\n",
       "      <td>2.0</td>\n",
       "      <td>2.0</td>\n",
       "      <td>1026.0</td>\n",
       "      <td>949.0</td>\n",
       "      <td>(-1.0, 1.0)</td>\n",
       "      <td>1.414214</td>\n",
       "    </tr>\n",
       "    <tr>\n",
       "      <th>4</th>\n",
       "      <td>4</td>\n",
       "      <td>4</td>\n",
       "      <td>2.0</td>\n",
       "      <td>3.0</td>\n",
       "      <td>1028.0</td>\n",
       "      <td>947.0</td>\n",
       "      <td>(2.0, -2.0)</td>\n",
       "      <td>2.828427</td>\n",
       "    </tr>\n",
       "  </tbody>\n",
       "</table>\n",
       "</div>"
      ],
      "text/plain": [
       "   Unnamed: 0  index  cell  frame  xcoord  ycoord   velocities    speeds\n",
       "0           0      0   1.0    0.0  1742.0   459.0   (0.0, 0.0)  0.000000\n",
       "1           1      1   2.0    0.0  1023.0   943.0   (0.0, 0.0)  0.000000\n",
       "2           2      2   2.0    1.0  1027.0   948.0   (4.0, 5.0)  6.403124\n",
       "3           3      3   2.0    2.0  1026.0   949.0  (-1.0, 1.0)  1.414214\n",
       "4           4      4   2.0    3.0  1028.0   947.0  (2.0, -2.0)  2.828427"
      ]
     },
     "execution_count": 7,
     "metadata": {},
     "output_type": "execute_result"
    }
   ],
   "source": [
    "t.head()"
   ]
  },
  {
   "cell_type": "code",
   "execution_count": 5,
   "id": "17b84995-86bf-4114-b1d5-cde82ed64131",
   "metadata": {},
   "outputs": [
    {
     "data": {
      "text/html": [
       "<div>\n",
       "<style scoped>\n",
       "    .dataframe tbody tr th:only-of-type {\n",
       "        vertical-align: middle;\n",
       "    }\n",
       "\n",
       "    .dataframe tbody tr th {\n",
       "        vertical-align: top;\n",
       "    }\n",
       "\n",
       "    .dataframe thead th {\n",
       "        text-align: right;\n",
       "    }\n",
       "</style>\n",
       "<table border=\"1\" class=\"dataframe\">\n",
       "  <thead>\n",
       "    <tr style=\"text-align: right;\">\n",
       "      <th></th>\n",
       "      <th>Unnamed: 0</th>\n",
       "      <th>index</th>\n",
       "      <th>cell</th>\n",
       "      <th>frame</th>\n",
       "      <th>xcoord</th>\n",
       "      <th>ycoord</th>\n",
       "      <th>velocities</th>\n",
       "      <th>speeds</th>\n",
       "    </tr>\n",
       "  </thead>\n",
       "  <tbody>\n",
       "    <tr>\n",
       "      <th>14</th>\n",
       "      <td>14</td>\n",
       "      <td>14</td>\n",
       "      <td>11.0</td>\n",
       "      <td>0.0</td>\n",
       "      <td>770.0</td>\n",
       "      <td>92.0</td>\n",
       "      <td>(0.0, 0.0)</td>\n",
       "      <td>0.000000</td>\n",
       "    </tr>\n",
       "    <tr>\n",
       "      <th>15</th>\n",
       "      <td>15</td>\n",
       "      <td>15</td>\n",
       "      <td>11.0</td>\n",
       "      <td>1.0</td>\n",
       "      <td>772.0</td>\n",
       "      <td>85.0</td>\n",
       "      <td>(2.0, -7.0)</td>\n",
       "      <td>7.280110</td>\n",
       "    </tr>\n",
       "    <tr>\n",
       "      <th>16</th>\n",
       "      <td>16</td>\n",
       "      <td>16</td>\n",
       "      <td>11.0</td>\n",
       "      <td>2.0</td>\n",
       "      <td>774.0</td>\n",
       "      <td>88.0</td>\n",
       "      <td>(2.0, 3.0)</td>\n",
       "      <td>3.605551</td>\n",
       "    </tr>\n",
       "    <tr>\n",
       "      <th>17</th>\n",
       "      <td>17</td>\n",
       "      <td>17</td>\n",
       "      <td>11.0</td>\n",
       "      <td>3.0</td>\n",
       "      <td>777.0</td>\n",
       "      <td>87.0</td>\n",
       "      <td>(3.0, -1.0)</td>\n",
       "      <td>3.162278</td>\n",
       "    </tr>\n",
       "    <tr>\n",
       "      <th>18</th>\n",
       "      <td>18</td>\n",
       "      <td>18</td>\n",
       "      <td>11.0</td>\n",
       "      <td>4.0</td>\n",
       "      <td>779.0</td>\n",
       "      <td>91.0</td>\n",
       "      <td>(2.0, 4.0)</td>\n",
       "      <td>4.472136</td>\n",
       "    </tr>\n",
       "    <tr>\n",
       "      <th>...</th>\n",
       "      <td>...</td>\n",
       "      <td>...</td>\n",
       "      <td>...</td>\n",
       "      <td>...</td>\n",
       "      <td>...</td>\n",
       "      <td>...</td>\n",
       "      <td>...</td>\n",
       "      <td>...</td>\n",
       "    </tr>\n",
       "    <tr>\n",
       "      <th>250</th>\n",
       "      <td>250</td>\n",
       "      <td>250</td>\n",
       "      <td>11.0</td>\n",
       "      <td>236.0</td>\n",
       "      <td>761.0</td>\n",
       "      <td>95.0</td>\n",
       "      <td>(0.0, 3.0)</td>\n",
       "      <td>3.000000</td>\n",
       "    </tr>\n",
       "    <tr>\n",
       "      <th>251</th>\n",
       "      <td>251</td>\n",
       "      <td>251</td>\n",
       "      <td>11.0</td>\n",
       "      <td>237.0</td>\n",
       "      <td>761.0</td>\n",
       "      <td>97.0</td>\n",
       "      <td>(0.0, 2.0)</td>\n",
       "      <td>2.000000</td>\n",
       "    </tr>\n",
       "    <tr>\n",
       "      <th>252</th>\n",
       "      <td>252</td>\n",
       "      <td>252</td>\n",
       "      <td>11.0</td>\n",
       "      <td>238.0</td>\n",
       "      <td>761.0</td>\n",
       "      <td>96.0</td>\n",
       "      <td>(0.0, -1.0)</td>\n",
       "      <td>1.000000</td>\n",
       "    </tr>\n",
       "    <tr>\n",
       "      <th>253</th>\n",
       "      <td>253</td>\n",
       "      <td>253</td>\n",
       "      <td>11.0</td>\n",
       "      <td>239.0</td>\n",
       "      <td>761.0</td>\n",
       "      <td>96.0</td>\n",
       "      <td>(0.0, 0.0)</td>\n",
       "      <td>0.000000</td>\n",
       "    </tr>\n",
       "    <tr>\n",
       "      <th>254</th>\n",
       "      <td>254</td>\n",
       "      <td>254</td>\n",
       "      <td>11.0</td>\n",
       "      <td>240.0</td>\n",
       "      <td>761.0</td>\n",
       "      <td>95.0</td>\n",
       "      <td>(0.0, -1.0)</td>\n",
       "      <td>1.000000</td>\n",
       "    </tr>\n",
       "  </tbody>\n",
       "</table>\n",
       "<p>241 rows × 8 columns</p>\n",
       "</div>"
      ],
      "text/plain": [
       "     Unnamed: 0  index  cell  frame  xcoord  ycoord   velocities    speeds\n",
       "14           14     14  11.0    0.0   770.0    92.0   (0.0, 0.0)  0.000000\n",
       "15           15     15  11.0    1.0   772.0    85.0  (2.0, -7.0)  7.280110\n",
       "16           16     16  11.0    2.0   774.0    88.0   (2.0, 3.0)  3.605551\n",
       "17           17     17  11.0    3.0   777.0    87.0  (3.0, -1.0)  3.162278\n",
       "18           18     18  11.0    4.0   779.0    91.0   (2.0, 4.0)  4.472136\n",
       "..          ...    ...   ...    ...     ...     ...          ...       ...\n",
       "250         250    250  11.0  236.0   761.0    95.0   (0.0, 3.0)  3.000000\n",
       "251         251    251  11.0  237.0   761.0    97.0   (0.0, 2.0)  2.000000\n",
       "252         252    252  11.0  238.0   761.0    96.0  (0.0, -1.0)  1.000000\n",
       "253         253    253  11.0  239.0   761.0    96.0   (0.0, 0.0)  0.000000\n",
       "254         254    254  11.0  240.0   761.0    95.0  (0.0, -1.0)  1.000000\n",
       "\n",
       "[241 rows x 8 columns]"
      ]
     },
     "execution_count": 5,
     "metadata": {},
     "output_type": "execute_result"
    }
   ],
   "source": [
    "c = t.loc[t['cell']==11]\n",
    "c"
   ]
  },
  {
   "cell_type": "code",
   "execution_count": 6,
   "id": "9fe47aa0-becc-4c75-96d2-eaed6850e56e",
   "metadata": {
    "tags": []
   },
   "outputs": [
    {
     "data": {
      "text/html": [
       "<div>\n",
       "<style scoped>\n",
       "    .dataframe tbody tr th:only-of-type {\n",
       "        vertical-align: middle;\n",
       "    }\n",
       "\n",
       "    .dataframe tbody tr th {\n",
       "        vertical-align: top;\n",
       "    }\n",
       "\n",
       "    .dataframe thead th {\n",
       "        text-align: right;\n",
       "    }\n",
       "</style>\n",
       "<table border=\"1\" class=\"dataframe\">\n",
       "  <thead>\n",
       "    <tr style=\"text-align: right;\">\n",
       "      <th></th>\n",
       "      <th>Unnamed: 0</th>\n",
       "      <th>index</th>\n",
       "      <th>cell</th>\n",
       "      <th>frame</th>\n",
       "      <th>xcoord</th>\n",
       "      <th>ycoord</th>\n",
       "      <th>velocities</th>\n",
       "      <th>speeds</th>\n",
       "    </tr>\n",
       "  </thead>\n",
       "  <tbody>\n",
       "    <tr>\n",
       "      <th>0</th>\n",
       "      <td>14</td>\n",
       "      <td>14</td>\n",
       "      <td>11.0</td>\n",
       "      <td>0.0</td>\n",
       "      <td>770.0</td>\n",
       "      <td>92.0</td>\n",
       "      <td>(0.0, 0.0)</td>\n",
       "      <td>0.0</td>\n",
       "    </tr>\n",
       "    <tr>\n",
       "      <th>1</th>\n",
       "      <td>1518</td>\n",
       "      <td>1518</td>\n",
       "      <td>104.0</td>\n",
       "      <td>0.0</td>\n",
       "      <td>832.0</td>\n",
       "      <td>122.0</td>\n",
       "      <td>(0.0, 0.0)</td>\n",
       "      <td>0.0</td>\n",
       "    </tr>\n",
       "    <tr>\n",
       "      <th>2</th>\n",
       "      <td>4524</td>\n",
       "      <td>4524</td>\n",
       "      <td>266.0</td>\n",
       "      <td>0.0</td>\n",
       "      <td>797.0</td>\n",
       "      <td>169.0</td>\n",
       "      <td>(0.0, 0.0)</td>\n",
       "      <td>0.0</td>\n",
       "    </tr>\n",
       "    <tr>\n",
       "      <th>3</th>\n",
       "      <td>6896</td>\n",
       "      <td>6896</td>\n",
       "      <td>483.0</td>\n",
       "      <td>0.0</td>\n",
       "      <td>802.0</td>\n",
       "      <td>88.0</td>\n",
       "      <td>(0.0, 0.0)</td>\n",
       "      <td>0.0</td>\n",
       "    </tr>\n",
       "    <tr>\n",
       "      <th>4</th>\n",
       "      <td>8501</td>\n",
       "      <td>8501</td>\n",
       "      <td>525.0</td>\n",
       "      <td>0.0</td>\n",
       "      <td>781.0</td>\n",
       "      <td>53.0</td>\n",
       "      <td>(0.0, 0.0)</td>\n",
       "      <td>0.0</td>\n",
       "    </tr>\n",
       "    <tr>\n",
       "      <th>...</th>\n",
       "      <td>...</td>\n",
       "      <td>...</td>\n",
       "      <td>...</td>\n",
       "      <td>...</td>\n",
       "      <td>...</td>\n",
       "      <td>...</td>\n",
       "      <td>...</td>\n",
       "      <td>...</td>\n",
       "    </tr>\n",
       "    <tr>\n",
       "      <th>2023</th>\n",
       "      <td>48397</td>\n",
       "      <td>48397</td>\n",
       "      <td>2594.0</td>\n",
       "      <td>240.0</td>\n",
       "      <td>756.0</td>\n",
       "      <td>146.0</td>\n",
       "      <td>(0.0, -1.0)</td>\n",
       "      <td>1.0</td>\n",
       "    </tr>\n",
       "    <tr>\n",
       "      <th>2024</th>\n",
       "      <td>85356</td>\n",
       "      <td>85356</td>\n",
       "      <td>9085.0</td>\n",
       "      <td>240.0</td>\n",
       "      <td>689.0</td>\n",
       "      <td>92.0</td>\n",
       "      <td>(0.0, -1.0)</td>\n",
       "      <td>1.0</td>\n",
       "    </tr>\n",
       "    <tr>\n",
       "      <th>2025</th>\n",
       "      <td>102075</td>\n",
       "      <td>102075</td>\n",
       "      <td>18239.0</td>\n",
       "      <td>240.0</td>\n",
       "      <td>827.0</td>\n",
       "      <td>63.0</td>\n",
       "      <td>(0.0, -1.0)</td>\n",
       "      <td>1.0</td>\n",
       "    </tr>\n",
       "    <tr>\n",
       "      <th>2026</th>\n",
       "      <td>147739</td>\n",
       "      <td>147739</td>\n",
       "      <td>49263.0</td>\n",
       "      <td>240.0</td>\n",
       "      <td>813.0</td>\n",
       "      <td>155.0</td>\n",
       "      <td>(0.0, -1.0)</td>\n",
       "      <td>1.0</td>\n",
       "    </tr>\n",
       "    <tr>\n",
       "      <th>2027</th>\n",
       "      <td>181147</td>\n",
       "      <td>181147</td>\n",
       "      <td>74767.0</td>\n",
       "      <td>240.0</td>\n",
       "      <td>722.0</td>\n",
       "      <td>23.0</td>\n",
       "      <td>(-2.0, 0.0)</td>\n",
       "      <td>2.0</td>\n",
       "    </tr>\n",
       "  </tbody>\n",
       "</table>\n",
       "<p>2028 rows × 8 columns</p>\n",
       "</div>"
      ],
      "text/plain": [
       "      Unnamed: 0   index     cell  frame  xcoord  ycoord   velocities  speeds\n",
       "0             14      14     11.0    0.0   770.0    92.0   (0.0, 0.0)     0.0\n",
       "1           1518    1518    104.0    0.0   832.0   122.0   (0.0, 0.0)     0.0\n",
       "2           4524    4524    266.0    0.0   797.0   169.0   (0.0, 0.0)     0.0\n",
       "3           6896    6896    483.0    0.0   802.0    88.0   (0.0, 0.0)     0.0\n",
       "4           8501    8501    525.0    0.0   781.0    53.0   (0.0, 0.0)     0.0\n",
       "...          ...     ...      ...    ...     ...     ...          ...     ...\n",
       "2023       48397   48397   2594.0  240.0   756.0   146.0  (0.0, -1.0)     1.0\n",
       "2024       85356   85356   9085.0  240.0   689.0    92.0  (0.0, -1.0)     1.0\n",
       "2025      102075  102075  18239.0  240.0   827.0    63.0  (0.0, -1.0)     1.0\n",
       "2026      147739  147739  49263.0  240.0   813.0   155.0  (0.0, -1.0)     1.0\n",
       "2027      181147  181147  74767.0  240.0   722.0    23.0  (-2.0, 0.0)     2.0\n",
       "\n",
       "[2028 rows x 8 columns]"
      ]
     },
     "execution_count": 6,
     "metadata": {},
     "output_type": "execute_result"
    },
    {
     "name": "stderr",
     "output_type": "stream",
     "text": [
      "/home/hfriz/.local/lib/python3.8/site-packages/matplotlib/quiver.py:689: RuntimeWarning: divide by zero encountered in double_scalars\n",
      "  length = a * (widthu_per_lenu / (self.scale * self.width))\n",
      "/home/hfriz/.local/lib/python3.8/site-packages/matplotlib/quiver.py:689: RuntimeWarning: invalid value encountered in multiply\n",
      "  length = a * (widthu_per_lenu / (self.scale * self.width))\n"
     ]
    },
    {
     "data": {
      "image/png": "[encoded data removed]",
      "text/plain": [
       "<Figure size 432x288 with 1 Axes>"
      ]
     },
     "metadata": {
      "needs_background": "light"
     },
     "output_type": "display_data"
    },
    {
     "data": {
      "image/png": "[encoded data removed]",
      "text/plain": [
       "<Figure size 432x288 with 1 Axes>"
      ]
     },
     "metadata": {
      "needs_background": "light"
     },
     "output_type": "display_data"
    },
    {
     "data": {
      "image/png": "[encoded data removed]",
      "text/plain": [
       "<Figure size 432x288 with 1 Axes>"
      ]
     },
     "metadata": {
      "needs_background": "light"
     },
     "output_type": "display_data"
    },
    {
     "data": {
      "image/png": "[encoded data removed]",
      "text/plain": [
       "<Figure size 432x288 with 1 Axes>"
      ]
     },
     "metadata": {
      "needs_background": "light"
     },
     "output_type": "display_data"
    },
    {
     "data": {
      "image/png": "[encoded data removed]",
      "text/plain": [
       "<Figure size 432x288 with 1 Axes>"
      ]
     },
     "metadata": {
      "needs_background": "light"
     },
     "output_type": "display_data"
    },
    {
     "data": {
      "image/png": "[encoded data removed]",
      "text/plain": [
       "<Figure size 432x288 with 1 Axes>"
      ]
     },
     "metadata": {
      "needs_background": "light"
     },
     "output_type": "display_data"
    },
    {
     "data": {
      "image/png": "[encoded data removed]",
      "text/plain": [
       "<Figure size 432x288 with 1 Axes>"
      ]
     },
     "metadata": {
      "needs_background": "light"
     },
     "output_type": "display_data"
    },
    {
     "data": {
      "image/png": "[encoded data removed]",
      "text/plain": [
       "<Figure size 432x288 with 1 Axes>"
      ]
     },
     "metadata": {
      "needs_background": "light"
     },
     "output_type": "display_data"
    },
    {
     "data": {
      "image/png": "[encoded data removed]",
      "text/plain": [
       "<Figure size 432x288 with 1 Axes>"
      ]
     },
     "metadata": {
      "needs_background": "light"
     },
     "output_type": "display_data"
    },
    {
     "data": {
      "image/png": "[encoded data removed]",
      "text/plain": [
       "<Figure size 432x288 with 1 Axes>"
      ]
     },
     "metadata": {
      "needs_background": "light"
     },
     "output_type": "display_data"
    }
   ],
   "source": [
    "nbhd = Analytics.check_nbhd(c,t, plots = True, max_plots=10)\n",
    "nbhd"
   ]
  },
  {
   "cell_type": "code",
   "execution_count": 13,
   "id": "592047fe-158c-4d9f-aee0-b920969abb9e",
   "metadata": {},
   "outputs": [
    {
     "name": "stdout",
     "output_type": "stream",
     "text": [
      "1160    (0.0, 1.0)\n",
      "Name: velocities, dtype: object\n"
     ]
    },
    {
     "data": {
      "text/plain": [
       "(array([5., 0., 0., 1., 0., 0., 1., 0., 0., 1.]),\n",
       " array([0. , 0.3, 0.6, 0.9, 1.2, 1.5, 1.8, 2.1, 2.4, 2.7, 3. ]),\n",
       " <BarContainer object of 10 artists>)"
      ]
     },
     "execution_count": 13,
     "metadata": {},
     "output_type": "execute_result"
    },
    {
     "data": {
      "image/png": "[encoded data removed]",
      "text/plain": [
       "<Figure size 720x576 with 1 Axes>"
      ]
     },
     "metadata": {
      "needs_background": "light"
     },
     "output_type": "display_data"
    }
   ],
   "source": [
    "print(nbhd.loc[(nbhd['frame']==150) & (nbhd['cell']==11)]['velocities'])\n",
    "f, a = plt.subplots(figsize=(10,8))\n",
    "a.hist(nbhd.loc[nbhd['frame']==150]['velocities'])"
   ]
  },
  {
   "cell_type": "code",
   "execution_count": 15,
   "id": "7375a964-33ab-49b3-817b-5ef47be64d95",
   "metadata": {},
   "outputs": [
    {
     "name": "stdout",
     "output_type": "stream",
     "text": [
      "x\n",
      "y\n"
     ]
    }
   ],
   "source": [
    "d = {'x':{'a': [1,2,3], 'b': [4,5,6], 'c':[8,7,9]}, 'y':{'a':[0,2,1], 'b':[4,5,6], 'c':[1,3,5]}}\n",
    "df = pd.DataFrame.from_dict(d, orient = 'index', columns = list(d['x'].keys()))\n",
    "for x in df.index:\n",
    "    print(x)"
   ]
  },
  {
   "cell_type": "markdown",
   "id": "120b8935-57f4-4654-80b5-f4a78aa5a8d4",
   "metadata": {
    "tags": []
   },
   "source": [
    "## Spreading/Adhering Tests\n",
    "We also want to start counting spreading/adherence of neutraphils. \n",
    "\n",
    "Some current hypotheses are that ME cells migrate/adhere at differents rates than HC."
   ]
  },
  {
   "cell_type": "code",
   "execution_count": null,
   "id": "61a10b42-6b35-4433-afb6-58cfb500af0f",
   "metadata": {},
   "outputs": [],
   "source": []
  },
  {
   "cell_type": "code",
   "execution_count": 1,
   "id": "14cc727c-c6fe-4f54-aec0-89eaea4592af",
   "metadata": {},
   "outputs": [],
   "source": [
    "import Analytics, skimage\n",
    "import numpy as np\n",
    "import pandas as pd\n",
    "import matplotlib.pyplot as plt"
   ]
  },
  {
   "cell_type": "markdown",
   "id": "60540db8-8a69-4987-916f-ff5010b78616",
   "metadata": {},
   "source": [
    "# Analyze 40X Tracks Data"
   ]
  },
  {
   "cell_type": "code",
   "execution_count": 9,
   "id": "78cc4ed0-ac45-4121-9988-2ac55742104e",
   "metadata": {},
   "outputs": [],
   "source": [
    "dic_contours = pd.read_csv(f'/mnt/c/Users/hfriz/OneDrive/Documents/AcademicsResearchProjects/StanfordGenetics-Neutraphils/40XData9-26/CONTOURS_DIC.csv')"
   ]
  },
  {
   "cell_type": "code",
   "execution_count": 12,
   "id": "abbeac09-8a50-4826-b72d-0a907b4fa907",
   "metadata": {},
   "outputs": [
    {
     "data": {
      "text/plain": [
       "0.6229563431287793"
      ]
     },
     "execution_count": 12,
     "metadata": {},
     "output_type": "execute_result"
    }
   ],
   "source": [
    "dic_contours['solidity'].min()"
   ]
  },
  {
   "cell_type": "code",
   "execution_count": 2,
   "id": "834099e7-85ea-44f9-9427-38bf6aab5634",
   "metadata": {},
   "outputs": [],
   "source": [
    "dic_tracks = pd.read_csv(f'/mnt/c/Users/hfriz/OneDrive/Documents/AcademicsResearchProjects/StanfordGenetics-Neutraphils/40XData9-26/tracks_DIC.csv')"
   ]
  },
  {
   "cell_type": "code",
   "execution_count": 3,
   "id": "f215bcd8-cff0-448c-a484-e321763228a2",
   "metadata": {},
   "outputs": [],
   "source": [
    "fitc_tracks = pd.read_csv(f'/mnt/c/Users/hfriz/OneDrive/Documents/AcademicsResearchProjects/StanfordGenetics-Neutraphils/40XData9-26/tracks_FITC.csv')"
   ]
  },
  {
   "cell_type": "code",
   "execution_count": 4,
   "id": "dd6ce865-845c-45ba-8371-a34466754c66",
   "metadata": {
    "tags": []
   },
   "outputs": [],
   "source": [
    "fitc_tracks.columns = ['index', 'cell', 'frame', 'xcoord', 'ycoord']\n",
    "dic_tracks.columns = ['index', 'cell', 'frame', 'xcoord', 'ycoord']"
   ]
  },
  {
   "cell_type": "code",
   "execution_count": 26,
   "id": "bd98e2d0-eaa5-4eec-8d72-f5d45cdd6e68",
   "metadata": {},
   "outputs": [
    {
     "data": {
      "text/html": [
       "<div>\n",
       "<style scoped>\n",
       "    .dataframe tbody tr th:only-of-type {\n",
       "        vertical-align: middle;\n",
       "    }\n",
       "\n",
       "    .dataframe tbody tr th {\n",
       "        vertical-align: top;\n",
       "    }\n",
       "\n",
       "    .dataframe thead th {\n",
       "        text-align: right;\n",
       "    }\n",
       "</style>\n",
       "<table border=\"1\" class=\"dataframe\">\n",
       "  <thead>\n",
       "    <tr style=\"text-align: right;\">\n",
       "      <th></th>\n",
       "      <th>index</th>\n",
       "      <th>cell</th>\n",
       "      <th>frame</th>\n",
       "      <th>xcoord</th>\n",
       "      <th>ycoord</th>\n",
       "    </tr>\n",
       "  </thead>\n",
       "  <tbody>\n",
       "    <tr>\n",
       "      <th>16</th>\n",
       "      <td>16</td>\n",
       "      <td>17.0</td>\n",
       "      <td>0.0</td>\n",
       "      <td>1255.0</td>\n",
       "      <td>418.0</td>\n",
       "    </tr>\n",
       "  </tbody>\n",
       "</table>\n",
       "</div>"
      ],
      "text/plain": [
       "    index  cell  frame  xcoord  ycoord\n",
       "16     16  17.0    0.0  1255.0   418.0"
      ]
     },
     "execution_count": 26,
     "metadata": {},
     "output_type": "execute_result"
    }
   ],
   "source": [
    "dic_tracks.loc[dic_tracks['cell']==17]"
   ]
  },
  {
   "cell_type": "code",
   "execution_count": 42,
   "id": "58e95ff2-4547-4f93-a2fb-8979f2281724",
   "metadata": {},
   "outputs": [
    {
     "data": {
      "text/html": [
       "<div>\n",
       "<style scoped>\n",
       "    .dataframe tbody tr th:only-of-type {\n",
       "        vertical-align: middle;\n",
       "    }\n",
       "\n",
       "    .dataframe tbody tr th {\n",
       "        vertical-align: top;\n",
       "    }\n",
       "\n",
       "    .dataframe thead th {\n",
       "        text-align: right;\n",
       "    }\n",
       "</style>\n",
       "<table border=\"1\" class=\"dataframe\">\n",
       "  <thead>\n",
       "    <tr style=\"text-align: right;\">\n",
       "      <th></th>\n",
       "      <th>index</th>\n",
       "      <th>cell</th>\n",
       "      <th>frame</th>\n",
       "      <th>xcoord</th>\n",
       "      <th>ycoord</th>\n",
       "    </tr>\n",
       "  </thead>\n",
       "  <tbody>\n",
       "    <tr>\n",
       "      <th>16</th>\n",
       "      <td>16</td>\n",
       "      <td>17.0</td>\n",
       "      <td>0.0</td>\n",
       "      <td>532.0</td>\n",
       "      <td>616.0</td>\n",
       "    </tr>\n",
       "    <tr>\n",
       "      <th>17</th>\n",
       "      <td>17</td>\n",
       "      <td>17.0</td>\n",
       "      <td>1.0</td>\n",
       "      <td>528.0</td>\n",
       "      <td>614.0</td>\n",
       "    </tr>\n",
       "    <tr>\n",
       "      <th>18</th>\n",
       "      <td>18</td>\n",
       "      <td>17.0</td>\n",
       "      <td>2.0</td>\n",
       "      <td>530.0</td>\n",
       "      <td>612.0</td>\n",
       "    </tr>\n",
       "    <tr>\n",
       "      <th>19</th>\n",
       "      <td>19</td>\n",
       "      <td>17.0</td>\n",
       "      <td>3.0</td>\n",
       "      <td>531.0</td>\n",
       "      <td>613.0</td>\n",
       "    </tr>\n",
       "    <tr>\n",
       "      <th>20</th>\n",
       "      <td>20</td>\n",
       "      <td>17.0</td>\n",
       "      <td>4.0</td>\n",
       "      <td>528.0</td>\n",
       "      <td>612.0</td>\n",
       "    </tr>\n",
       "    <tr>\n",
       "      <th>21</th>\n",
       "      <td>21</td>\n",
       "      <td>17.0</td>\n",
       "      <td>5.0</td>\n",
       "      <td>529.0</td>\n",
       "      <td>617.0</td>\n",
       "    </tr>\n",
       "  </tbody>\n",
       "</table>\n",
       "</div>"
      ],
      "text/plain": [
       "    index  cell  frame  xcoord  ycoord\n",
       "16     16  17.0    0.0   532.0   616.0\n",
       "17     17  17.0    1.0   528.0   614.0\n",
       "18     18  17.0    2.0   530.0   612.0\n",
       "19     19  17.0    3.0   531.0   613.0\n",
       "20     20  17.0    4.0   528.0   612.0\n",
       "21     21  17.0    5.0   529.0   617.0"
      ]
     },
     "execution_count": 42,
     "metadata": {},
     "output_type": "execute_result"
    }
   ],
   "source": [
    "fitc_tracks.loc[fitc_tracks['cell']==17]"
   ]
  },
  {
   "cell_type": "code",
   "execution_count": 40,
   "id": "df4d6f5e-77f3-478a-911e-385c090e2ca8",
   "metadata": {
    "jupyter": {
     "source_hidden": true
    },
    "tags": []
   },
   "outputs": [],
   "source": [
    "# for k in range(1,100):\n",
    "#     cell = fitc_tracks.loc[fitc_tracks['cell']==k]\n",
    "#     print(k,cell['index'].min())\n",
    "#     if cell['index'].min() == 'nan':\n",
    "#         print(k)\n",
    "#         print('----------')\n",
    "#         print(cell)\n",
    "#     #xvel = np.diff(cell['xcoord'], prepend = cell.at[cell['index'].min(),'xcoord'])\n",
    "#     #cell['index'].min()"
   ]
  },
  {
   "cell_type": "code",
   "execution_count": 5,
   "id": "4cd77a3a-5490-4fc8-9eed-99bbe663808b",
   "metadata": {},
   "outputs": [
    {
     "data": {
      "text/plain": [
       "nan"
      ]
     },
     "execution_count": 5,
     "metadata": {},
     "output_type": "execute_result"
    }
   ],
   "source": [
    "cell = fitc_tracks.loc[fitc_tracks['cell']==70]\n",
    "cell['index'].min()"
   ]
  },
  {
   "cell_type": "code",
   "execution_count": 7,
   "id": "6a9e2f8a-3626-4e8e-bc1f-f79aa756a0f3",
   "metadata": {
    "tags": []
   },
   "outputs": [
    {
     "data": {
      "text/html": [
       "<div>\n",
       "<style scoped>\n",
       "    .dataframe tbody tr th:only-of-type {\n",
       "        vertical-align: middle;\n",
       "    }\n",
       "\n",
       "    .dataframe tbody tr th {\n",
       "        vertical-align: top;\n",
       "    }\n",
       "\n",
       "    .dataframe thead th {\n",
       "        text-align: right;\n",
       "    }\n",
       "</style>\n",
       "<table border=\"1\" class=\"dataframe\">\n",
       "  <thead>\n",
       "    <tr style=\"text-align: right;\">\n",
       "      <th></th>\n",
       "      <th>index</th>\n",
       "      <th>cell</th>\n",
       "      <th>frame</th>\n",
       "      <th>xcoord</th>\n",
       "      <th>ycoord</th>\n",
       "      <th>velocity</th>\n",
       "      <th>speed</th>\n",
       "    </tr>\n",
       "  </thead>\n",
       "  <tbody>\n",
       "    <tr>\n",
       "      <th>0</th>\n",
       "      <td>0</td>\n",
       "      <td>1.0</td>\n",
       "      <td>0.0</td>\n",
       "      <td>563.0</td>\n",
       "      <td>498.0</td>\n",
       "      <td>(0.0, 0.0)</td>\n",
       "      <td>0.0</td>\n",
       "    </tr>\n",
       "    <tr>\n",
       "      <th>1</th>\n",
       "      <td>1</td>\n",
       "      <td>2.0</td>\n",
       "      <td>0.0</td>\n",
       "      <td>1636.0</td>\n",
       "      <td>580.0</td>\n",
       "      <td>(0.0, 0.0)</td>\n",
       "      <td>0.0</td>\n",
       "    </tr>\n",
       "    <tr>\n",
       "      <th>2</th>\n",
       "      <td>2</td>\n",
       "      <td>3.0</td>\n",
       "      <td>0.0</td>\n",
       "      <td>1061.0</td>\n",
       "      <td>203.0</td>\n",
       "      <td>(0.0, 0.0)</td>\n",
       "      <td>0.0</td>\n",
       "    </tr>\n",
       "    <tr>\n",
       "      <th>3</th>\n",
       "      <td>3</td>\n",
       "      <td>4.0</td>\n",
       "      <td>0.0</td>\n",
       "      <td>1426.0</td>\n",
       "      <td>717.0</td>\n",
       "      <td>(0.0, 0.0)</td>\n",
       "      <td>0.0</td>\n",
       "    </tr>\n",
       "    <tr>\n",
       "      <th>4</th>\n",
       "      <td>4</td>\n",
       "      <td>5.0</td>\n",
       "      <td>0.0</td>\n",
       "      <td>1702.0</td>\n",
       "      <td>597.0</td>\n",
       "      <td>(0.0, 0.0)</td>\n",
       "      <td>0.0</td>\n",
       "    </tr>\n",
       "    <tr>\n",
       "      <th>...</th>\n",
       "      <td>...</td>\n",
       "      <td>...</td>\n",
       "      <td>...</td>\n",
       "      <td>...</td>\n",
       "      <td>...</td>\n",
       "      <td>...</td>\n",
       "      <td>...</td>\n",
       "    </tr>\n",
       "    <tr>\n",
       "      <th>39155</th>\n",
       "      <td>39155</td>\n",
       "      <td>27879.0</td>\n",
       "      <td>120.0</td>\n",
       "      <td>369.0</td>\n",
       "      <td>1392.0</td>\n",
       "      <td>(0.0, 0.0)</td>\n",
       "      <td>0.0</td>\n",
       "    </tr>\n",
       "    <tr>\n",
       "      <th>39156</th>\n",
       "      <td>39156</td>\n",
       "      <td>27880.0</td>\n",
       "      <td>120.0</td>\n",
       "      <td>873.0</td>\n",
       "      <td>1698.0</td>\n",
       "      <td>(0.0, 0.0)</td>\n",
       "      <td>0.0</td>\n",
       "    </tr>\n",
       "    <tr>\n",
       "      <th>39157</th>\n",
       "      <td>39157</td>\n",
       "      <td>27881.0</td>\n",
       "      <td>120.0</td>\n",
       "      <td>1582.0</td>\n",
       "      <td>977.0</td>\n",
       "      <td>(0.0, 0.0)</td>\n",
       "      <td>0.0</td>\n",
       "    </tr>\n",
       "    <tr>\n",
       "      <th>39158</th>\n",
       "      <td>39158</td>\n",
       "      <td>27882.0</td>\n",
       "      <td>120.0</td>\n",
       "      <td>1550.0</td>\n",
       "      <td>1365.0</td>\n",
       "      <td>(0.0, 0.0)</td>\n",
       "      <td>0.0</td>\n",
       "    </tr>\n",
       "    <tr>\n",
       "      <th>39159</th>\n",
       "      <td>39159</td>\n",
       "      <td>27883.0</td>\n",
       "      <td>120.0</td>\n",
       "      <td>1875.0</td>\n",
       "      <td>172.0</td>\n",
       "      <td>(0.0, 0.0)</td>\n",
       "      <td>0.0</td>\n",
       "    </tr>\n",
       "  </tbody>\n",
       "</table>\n",
       "<p>39160 rows × 7 columns</p>\n",
       "</div>"
      ],
      "text/plain": [
       "       index     cell  frame  xcoord  ycoord    velocity  speed\n",
       "0          0      1.0    0.0   563.0   498.0  (0.0, 0.0)    0.0\n",
       "1          1      2.0    0.0  1636.0   580.0  (0.0, 0.0)    0.0\n",
       "2          2      3.0    0.0  1061.0   203.0  (0.0, 0.0)    0.0\n",
       "3          3      4.0    0.0  1426.0   717.0  (0.0, 0.0)    0.0\n",
       "4          4      5.0    0.0  1702.0   597.0  (0.0, 0.0)    0.0\n",
       "...      ...      ...    ...     ...     ...         ...    ...\n",
       "39155  39155  27879.0  120.0   369.0  1392.0  (0.0, 0.0)    0.0\n",
       "39156  39156  27880.0  120.0   873.0  1698.0  (0.0, 0.0)    0.0\n",
       "39157  39157  27881.0  120.0  1582.0   977.0  (0.0, 0.0)    0.0\n",
       "39158  39158  27882.0  120.0  1550.0  1365.0  (0.0, 0.0)    0.0\n",
       "39159  39159  27883.0  120.0  1875.0   172.0  (0.0, 0.0)    0.0\n",
       "\n",
       "[39160 rows x 7 columns]"
      ]
     },
     "execution_count": 7,
     "metadata": {},
     "output_type": "execute_result"
    }
   ],
   "source": [
    "fitc_vel = Analytics.get_velocities(fitc_tracks)\n",
    "dic_vel = Analytics.get_velocities(dic_tracks)\n",
    "dic_vel"
   ]
  },
  {
   "cell_type": "code",
   "execution_count": 8,
   "id": "644f1a40-f270-4a9d-aac9-cd03ccc82f27",
   "metadata": {},
   "outputs": [
    {
     "data": {
      "text/html": [
       "<div>\n",
       "<style scoped>\n",
       "    .dataframe tbody tr th:only-of-type {\n",
       "        vertical-align: middle;\n",
       "    }\n",
       "\n",
       "    .dataframe tbody tr th {\n",
       "        vertical-align: top;\n",
       "    }\n",
       "\n",
       "    .dataframe thead th {\n",
       "        text-align: right;\n",
       "    }\n",
       "</style>\n",
       "<table border=\"1\" class=\"dataframe\">\n",
       "  <thead>\n",
       "    <tr style=\"text-align: right;\">\n",
       "      <th></th>\n",
       "      <th>index</th>\n",
       "      <th>cell</th>\n",
       "      <th>frame</th>\n",
       "      <th>xcoord</th>\n",
       "      <th>ycoord</th>\n",
       "      <th>velocity</th>\n",
       "      <th>speed</th>\n",
       "    </tr>\n",
       "  </thead>\n",
       "  <tbody>\n",
       "    <tr>\n",
       "      <th>0</th>\n",
       "      <td>0</td>\n",
       "      <td>1.0</td>\n",
       "      <td>0.0</td>\n",
       "      <td>594.0</td>\n",
       "      <td>1782.0</td>\n",
       "      <td>(0.0, 0.0)</td>\n",
       "      <td>0.000000</td>\n",
       "    </tr>\n",
       "    <tr>\n",
       "      <th>1</th>\n",
       "      <td>1</td>\n",
       "      <td>2.0</td>\n",
       "      <td>0.0</td>\n",
       "      <td>1448.0</td>\n",
       "      <td>722.0</td>\n",
       "      <td>(0.0, 0.0)</td>\n",
       "      <td>0.000000</td>\n",
       "    </tr>\n",
       "    <tr>\n",
       "      <th>2</th>\n",
       "      <td>2</td>\n",
       "      <td>3.0</td>\n",
       "      <td>0.0</td>\n",
       "      <td>110.0</td>\n",
       "      <td>1612.0</td>\n",
       "      <td>(0.0, 0.0)</td>\n",
       "      <td>0.000000</td>\n",
       "    </tr>\n",
       "    <tr>\n",
       "      <th>3</th>\n",
       "      <td>3</td>\n",
       "      <td>4.0</td>\n",
       "      <td>0.0</td>\n",
       "      <td>956.0</td>\n",
       "      <td>61.0</td>\n",
       "      <td>(0.0, 0.0)</td>\n",
       "      <td>0.000000</td>\n",
       "    </tr>\n",
       "    <tr>\n",
       "      <th>4</th>\n",
       "      <td>4</td>\n",
       "      <td>5.0</td>\n",
       "      <td>0.0</td>\n",
       "      <td>313.0</td>\n",
       "      <td>581.0</td>\n",
       "      <td>(0.0, 0.0)</td>\n",
       "      <td>0.000000</td>\n",
       "    </tr>\n",
       "    <tr>\n",
       "      <th>...</th>\n",
       "      <td>...</td>\n",
       "      <td>...</td>\n",
       "      <td>...</td>\n",
       "      <td>...</td>\n",
       "      <td>...</td>\n",
       "      <td>...</td>\n",
       "      <td>...</td>\n",
       "    </tr>\n",
       "    <tr>\n",
       "      <th>3205</th>\n",
       "      <td>3205</td>\n",
       "      <td>2495.0</td>\n",
       "      <td>119.0</td>\n",
       "      <td>1717.0</td>\n",
       "      <td>194.0</td>\n",
       "      <td>(0.0, 0.0)</td>\n",
       "      <td>0.000000</td>\n",
       "    </tr>\n",
       "    <tr>\n",
       "      <th>3206</th>\n",
       "      <td>3206</td>\n",
       "      <td>2496.0</td>\n",
       "      <td>119.0</td>\n",
       "      <td>158.0</td>\n",
       "      <td>985.0</td>\n",
       "      <td>(0.0, 0.0)</td>\n",
       "      <td>0.000000</td>\n",
       "    </tr>\n",
       "    <tr>\n",
       "      <th>3207</th>\n",
       "      <td>3207</td>\n",
       "      <td>2496.0</td>\n",
       "      <td>120.0</td>\n",
       "      <td>160.0</td>\n",
       "      <td>984.0</td>\n",
       "      <td>(2.0, -1.0)</td>\n",
       "      <td>2.236068</td>\n",
       "    </tr>\n",
       "    <tr>\n",
       "      <th>3208</th>\n",
       "      <td>3208</td>\n",
       "      <td>2497.0</td>\n",
       "      <td>120.0</td>\n",
       "      <td>1192.0</td>\n",
       "      <td>1316.0</td>\n",
       "      <td>(0.0, 0.0)</td>\n",
       "      <td>0.000000</td>\n",
       "    </tr>\n",
       "    <tr>\n",
       "      <th>3209</th>\n",
       "      <td>3209</td>\n",
       "      <td>2498.0</td>\n",
       "      <td>120.0</td>\n",
       "      <td>1132.0</td>\n",
       "      <td>1260.0</td>\n",
       "      <td>(0.0, 0.0)</td>\n",
       "      <td>0.000000</td>\n",
       "    </tr>\n",
       "  </tbody>\n",
       "</table>\n",
       "<p>3210 rows × 7 columns</p>\n",
       "</div>"
      ],
      "text/plain": [
       "      index    cell  frame  xcoord  ycoord     velocity     speed\n",
       "0         0     1.0    0.0   594.0  1782.0   (0.0, 0.0)  0.000000\n",
       "1         1     2.0    0.0  1448.0   722.0   (0.0, 0.0)  0.000000\n",
       "2         2     3.0    0.0   110.0  1612.0   (0.0, 0.0)  0.000000\n",
       "3         3     4.0    0.0   956.0    61.0   (0.0, 0.0)  0.000000\n",
       "4         4     5.0    0.0   313.0   581.0   (0.0, 0.0)  0.000000\n",
       "...     ...     ...    ...     ...     ...          ...       ...\n",
       "3205   3205  2495.0  119.0  1717.0   194.0   (0.0, 0.0)  0.000000\n",
       "3206   3206  2496.0  119.0   158.0   985.0   (0.0, 0.0)  0.000000\n",
       "3207   3207  2496.0  120.0   160.0   984.0  (2.0, -1.0)  2.236068\n",
       "3208   3208  2497.0  120.0  1192.0  1316.0   (0.0, 0.0)  0.000000\n",
       "3209   3209  2498.0  120.0  1132.0  1260.0   (0.0, 0.0)  0.000000\n",
       "\n",
       "[3210 rows x 7 columns]"
      ]
     },
     "execution_count": 8,
     "metadata": {},
     "output_type": "execute_result"
    }
   ],
   "source": [
    "fitc_vel"
   ]
  },
  {
   "cell_type": "code",
   "execution_count": 5,
   "id": "18b95218-c6da-4be7-a2ff-36c0eabf02ed",
   "metadata": {},
   "outputs": [
    {
     "ename": "KeyError",
     "evalue": "'cell'",
     "output_type": "error",
     "traceback": [
      "\u001b[0;31m---------------------------------------------------------------------------\u001b[0m",
      "\u001b[0;31mKeyError\u001b[0m                                  Traceback (most recent call last)",
      "File \u001b[0;32m~/.local/lib/python3.8/site-packages/pandas/core/indexes/base.py:3629\u001b[0m, in \u001b[0;36mIndex.get_loc\u001b[0;34m(self, key, method, tolerance)\u001b[0m\n\u001b[1;32m   3628\u001b[0m \u001b[38;5;28;01mtry\u001b[39;00m:\n\u001b[0;32m-> 3629\u001b[0m     \u001b[38;5;28;01mreturn\u001b[39;00m \u001b[38;5;28;43mself\u001b[39;49m\u001b[38;5;241;43m.\u001b[39;49m\u001b[43m_engine\u001b[49m\u001b[38;5;241;43m.\u001b[39;49m\u001b[43mget_loc\u001b[49m\u001b[43m(\u001b[49m\u001b[43mcasted_key\u001b[49m\u001b[43m)\u001b[49m\n\u001b[1;32m   3630\u001b[0m \u001b[38;5;28;01mexcept\u001b[39;00m \u001b[38;5;167;01mKeyError\u001b[39;00m \u001b[38;5;28;01mas\u001b[39;00m err:\n",
      "File \u001b[0;32m~/.local/lib/python3.8/site-packages/pandas/_libs/index.pyx:136\u001b[0m, in \u001b[0;36mpandas._libs.index.IndexEngine.get_loc\u001b[0;34m()\u001b[0m\n",
      "File \u001b[0;32m~/.local/lib/python3.8/site-packages/pandas/_libs/index.pyx:163\u001b[0m, in \u001b[0;36mpandas._libs.index.IndexEngine.get_loc\u001b[0;34m()\u001b[0m\n",
      "File \u001b[0;32mpandas/_libs/hashtable_class_helper.pxi:5198\u001b[0m, in \u001b[0;36mpandas._libs.hashtable.PyObjectHashTable.get_item\u001b[0;34m()\u001b[0m\n",
      "File \u001b[0;32mpandas/_libs/hashtable_class_helper.pxi:5206\u001b[0m, in \u001b[0;36mpandas._libs.hashtable.PyObjectHashTable.get_item\u001b[0;34m()\u001b[0m\n",
      "\u001b[0;31mKeyError\u001b[0m: 'cell'",
      "\nThe above exception was the direct cause of the following exception:\n",
      "\u001b[0;31mKeyError\u001b[0m                                  Traceback (most recent call last)",
      "Input \u001b[0;32mIn [5]\u001b[0m, in \u001b[0;36m<cell line: 1>\u001b[0;34m()\u001b[0m\n\u001b[0;32m----> 1\u001b[0m dic_tracks, dic_frame_stats_df, dic_sample_counts_df \u001b[38;5;241m=\u001b[39m \u001b[43mAnalytics\u001b[49m\u001b[38;5;241;43m.\u001b[39;49m\u001b[43mtracks_pipeline\u001b[49m\u001b[43m(\u001b[49m\u001b[43mdic_tracks\u001b[49m\u001b[43m,\u001b[49m\u001b[43m \u001b[49m\u001b[43mtitle\u001b[49m\u001b[38;5;241;43m=\u001b[39;49m\u001b[38;5;124;43m'\u001b[39;49m\u001b[38;5;124;43mDIC\u001b[39;49m\u001b[38;5;124;43m'\u001b[39;49m\u001b[43m)\u001b[49m\n",
      "File \u001b[0;32m~/SGTCIA/Analytics.py:18\u001b[0m, in \u001b[0;36mtracks_pipeline\u001b[0;34m(raw_tracks_data, title)\u001b[0m\n\u001b[1;32m     16\u001b[0m \u001b[38;5;28;01mdef\u001b[39;00m \u001b[38;5;21mtracks_pipeline\u001b[39m(raw_tracks_data, title \u001b[38;5;241m=\u001b[39m \u001b[38;5;28;01mNone\u001b[39;00m):\n\u001b[1;32m     17\u001b[0m     tracks \u001b[38;5;241m=\u001b[39m raw_tracks_data\u001b[38;5;241m.\u001b[39mcopy()\n\u001b[0;32m---> 18\u001b[0m     tracks \u001b[38;5;241m=\u001b[39m \u001b[43mget_velocities\u001b[49m\u001b[43m(\u001b[49m\u001b[43mtracks\u001b[49m\u001b[43m)\u001b[49m\n\u001b[1;32m     19\u001b[0m     tracks \u001b[38;5;241m=\u001b[39m get_morphology(tracks)\n\u001b[1;32m     21\u001b[0m     frame_stats_df \u001b[38;5;241m=\u001b[39m frame_feature_counts(tracks)\n",
      "File \u001b[0;32m~/SGTCIA/Analytics.py:233\u001b[0m, in \u001b[0;36mget_velocities\u001b[0;34m(tracks, histogram)\u001b[0m\n\u001b[1;32m    231\u001b[0m velocities \u001b[38;5;241m=\u001b[39m []\n\u001b[1;32m    232\u001b[0m speeds \u001b[38;5;241m=\u001b[39m []\n\u001b[0;32m--> 233\u001b[0m \u001b[38;5;28;01mfor\u001b[39;00m i \u001b[38;5;129;01min\u001b[39;00m \u001b[38;5;28mrange\u001b[39m(\u001b[38;5;28mint\u001b[39m(\u001b[43mtracks\u001b[49m\u001b[43m[\u001b[49m\u001b[38;5;124;43m'\u001b[39;49m\u001b[38;5;124;43mcell\u001b[39;49m\u001b[38;5;124;43m'\u001b[39;49m\u001b[43m]\u001b[49m\u001b[38;5;241m.\u001b[39mmin()),\u001b[38;5;28mint\u001b[39m(tracks[\u001b[38;5;124m'\u001b[39m\u001b[38;5;124mcell\u001b[39m\u001b[38;5;124m'\u001b[39m]\u001b[38;5;241m.\u001b[39mmax())\u001b[38;5;241m+\u001b[39m\u001b[38;5;241m1\u001b[39m):\n\u001b[1;32m    234\u001b[0m     cell \u001b[38;5;241m=\u001b[39m tracks\u001b[38;5;241m.\u001b[39mloc[tracks[\u001b[38;5;124m'\u001b[39m\u001b[38;5;124mcell\u001b[39m\u001b[38;5;124m'\u001b[39m] \u001b[38;5;241m==\u001b[39m i]\n\u001b[1;32m    235\u001b[0m     xvel \u001b[38;5;241m=\u001b[39m np\u001b[38;5;241m.\u001b[39mdiff(cell[\u001b[38;5;124m'\u001b[39m\u001b[38;5;124mxcoord\u001b[39m\u001b[38;5;124m'\u001b[39m], prepend \u001b[38;5;241m=\u001b[39m cell\u001b[38;5;241m.\u001b[39mat[cell[\u001b[38;5;124m'\u001b[39m\u001b[38;5;124mindex\u001b[39m\u001b[38;5;124m'\u001b[39m]\u001b[38;5;241m.\u001b[39mmin(), \u001b[38;5;124m'\u001b[39m\u001b[38;5;124mxcoord\u001b[39m\u001b[38;5;124m'\u001b[39m])\n",
      "File \u001b[0;32m~/.local/lib/python3.8/site-packages/pandas/core/frame.py:3505\u001b[0m, in \u001b[0;36mDataFrame.__getitem__\u001b[0;34m(self, key)\u001b[0m\n\u001b[1;32m   3503\u001b[0m \u001b[38;5;28;01mif\u001b[39;00m \u001b[38;5;28mself\u001b[39m\u001b[38;5;241m.\u001b[39mcolumns\u001b[38;5;241m.\u001b[39mnlevels \u001b[38;5;241m>\u001b[39m \u001b[38;5;241m1\u001b[39m:\n\u001b[1;32m   3504\u001b[0m     \u001b[38;5;28;01mreturn\u001b[39;00m \u001b[38;5;28mself\u001b[39m\u001b[38;5;241m.\u001b[39m_getitem_multilevel(key)\n\u001b[0;32m-> 3505\u001b[0m indexer \u001b[38;5;241m=\u001b[39m \u001b[38;5;28;43mself\u001b[39;49m\u001b[38;5;241;43m.\u001b[39;49m\u001b[43mcolumns\u001b[49m\u001b[38;5;241;43m.\u001b[39;49m\u001b[43mget_loc\u001b[49m\u001b[43m(\u001b[49m\u001b[43mkey\u001b[49m\u001b[43m)\u001b[49m\n\u001b[1;32m   3506\u001b[0m \u001b[38;5;28;01mif\u001b[39;00m is_integer(indexer):\n\u001b[1;32m   3507\u001b[0m     indexer \u001b[38;5;241m=\u001b[39m [indexer]\n",
      "File \u001b[0;32m~/.local/lib/python3.8/site-packages/pandas/core/indexes/base.py:3631\u001b[0m, in \u001b[0;36mIndex.get_loc\u001b[0;34m(self, key, method, tolerance)\u001b[0m\n\u001b[1;32m   3629\u001b[0m     \u001b[38;5;28;01mreturn\u001b[39;00m \u001b[38;5;28mself\u001b[39m\u001b[38;5;241m.\u001b[39m_engine\u001b[38;5;241m.\u001b[39mget_loc(casted_key)\n\u001b[1;32m   3630\u001b[0m \u001b[38;5;28;01mexcept\u001b[39;00m \u001b[38;5;167;01mKeyError\u001b[39;00m \u001b[38;5;28;01mas\u001b[39;00m err:\n\u001b[0;32m-> 3631\u001b[0m     \u001b[38;5;28;01mraise\u001b[39;00m \u001b[38;5;167;01mKeyError\u001b[39;00m(key) \u001b[38;5;28;01mfrom\u001b[39;00m \u001b[38;5;21;01merr\u001b[39;00m\n\u001b[1;32m   3632\u001b[0m \u001b[38;5;28;01mexcept\u001b[39;00m \u001b[38;5;167;01mTypeError\u001b[39;00m:\n\u001b[1;32m   3633\u001b[0m     \u001b[38;5;66;03m# If we have a listlike key, _check_indexing_error will raise\u001b[39;00m\n\u001b[1;32m   3634\u001b[0m     \u001b[38;5;66;03m#  InvalidIndexError. Otherwise we fall through and re-raise\u001b[39;00m\n\u001b[1;32m   3635\u001b[0m     \u001b[38;5;66;03m#  the TypeError.\u001b[39;00m\n\u001b[1;32m   3636\u001b[0m     \u001b[38;5;28mself\u001b[39m\u001b[38;5;241m.\u001b[39m_check_indexing_error(key)\n",
      "\u001b[0;31mKeyError\u001b[0m: 'cell'"
     ]
    }
   ],
   "source": [
    "dic_tracks, dic_frame_stats_df, dic_sample_counts_df = Analytics.tracks_pipeline(dic_tracks, title='DIC')"
   ]
  },
  {
   "cell_type": "code",
   "execution_count": null,
   "id": "55bd74b4-9f05-41fe-8d9b-b6fdeba36ddf",
   "metadata": {},
   "outputs": [],
   "source": []
  }
 ],
 "metadata": {
  "kernelspec": {
   "display_name": "Python 3 (ipykernel)",
   "language": "python",
   "name": "python3"
  },
  "language_info": {
   "codemirror_mode": {
    "name": "ipython",
    "version": 3
   },
   "file_extension": ".py",
   "mimetype": "text/x-python",
   "name": "python",
   "nbconvert_exporter": "python",
   "pygments_lexer": "ipython3",
   "version": "3.8.10"
  }
 },
 "nbformat": 4,
 "nbformat_minor": 5
}
