{
 "cells": [
  {
   "cell_type": "code",
   "execution_count": 4,
   "id": "9bf4f105-2ed3-4a2a-8956-922d0c77fb5c",
   "metadata": {},
   "outputs": [],
   "source": [
    "import numpy as np\n",
    "import matplotlib.pyplot as plt\n",
    "import pandas\n",
    "import json"
   ]
  },
  {
   "cell_type": "code",
   "execution_count": 5,
   "id": "b5eb9841-91ca-45cf-aeec-b2871eb8f79d",
   "metadata": {},
   "outputs": [],
   "source": [
    "from PIL import Image\n",
    "import tifffile"
   ]
  },
  {
   "cell_type": "markdown",
   "id": "0b6ade26-cc2d-4be9-aaa2-2a9987727c93",
   "metadata": {},
   "source": [
    "## To use Pixel Animator:\n",
    "#### We have to extract each frame from our tiff file to label individually. \n",
    "#### We then save each as its own tiff file."
   ]
  },
  {
   "cell_type": "code",
   "execution_count": 21,
   "id": "4c4a5b3f-703d-4cff-bb96-81c9a630bd91",
   "metadata": {},
   "outputs": [
    {
     "data": {
      "text/plain": [
       "(10, 2048, 2048)"
      ]
     },
     "execution_count": 21,
     "metadata": {},
     "output_type": "execute_result"
    }
   ],
   "source": [
    "frames = tifffile.imread(\"10Frames/20230510_SG0062_Netosis__241T_1Z_CH2.ome.tif\")\n",
    "frames.shape"
   ]
  },
  {
   "cell_type": "code",
   "execution_count": 23,
   "id": "baaa9a5e-9402-4f5a-a822-7bb808f2f69f",
   "metadata": {},
   "outputs": [],
   "source": [
    "with tifffile.TiffFile(\"10Frames/20230510_SG0062_Nucleus__241T_1Z_CH4.ome.tif\") as tif:\n",
    "    for i,page in enumerate(tif.pages):\n",
    "        frame = page.asarray()\n",
    "        tifffile.imwrite(f'CH4Frame{i}.ome.tiff', frame, photometric='minisblack')"
   ]
  },
  {
   "cell_type": "code",
   "execution_count": 5,
   "id": "c0a50620-ff06-4aaa-acb8-7ad4cffbbdf2",
   "metadata": {},
   "outputs": [],
   "source": [
    "with open('cells.json') as file:\n",
    "    cells = json.load(file)"
   ]
  },
  {
   "cell_type": "code",
   "execution_count": 12,
   "id": "96237488-e379-4f7a-aaf5-6c39495551c4",
   "metadata": {},
   "outputs": [],
   "source": [
    "frame0 = []\n",
    "\n",
    "for i,d in enumerate(cells):\n",
    "    if d['t'] == 0:\n",
    "        frame0.append(d)"
   ]
  },
  {
   "cell_type": "code",
   "execution_count": 15,
   "id": "a213fdd7-9e3c-4fec-b3e7-37dd76498076",
   "metadata": {},
   "outputs": [],
   "source": [
    "for d in frame0:\n",
    "    d['state'] = 0"
   ]
  },
  {
   "cell_type": "code",
   "execution_count": 18,
   "id": "f9f14c71-6ad9-4c77-8eb8-20653059b429",
   "metadata": {},
   "outputs": [],
   "source": [
    "l = list(np.arange(132))\n",
    "for i,d in enumerate(frame0):\n",
    "    d['state'] = l[i]"
   ]
  },
  {
   "cell_type": "markdown",
   "id": "01a8e70c-2693-432b-8c57-9b3ea24c8420",
   "metadata": {},
   "source": [
    "## IDEA: \n",
    "We use deepcell-label to label the time serie of cells to track cell movements. We then have to keep track of the order of the cells via deep cell and by hand label each cell based on its state. We can then append this list of states (ordered via cell label) to the dictionary of information given by deepcell.\n",
    "Labelling via deepcell-label twice will not keep track of cell label and will make data storage more challenging. "
   ]
  },
  {
   "cell_type": "code",
   "execution_count": null,
   "id": "500d109b-2561-4a80-ab90-5421b0358754",
   "metadata": {},
   "outputs": [],
   "source": []
  }
 ],
 "metadata": {
  "kernelspec": {
   "display_name": "Python 3 (ipykernel)",
   "language": "python",
   "name": "python3"
  },
  "language_info": {
   "codemirror_mode": {
    "name": "ipython",
    "version": 3
   },
   "file_extension": ".py",
   "mimetype": "text/x-python",
   "name": "python",
   "nbconvert_exporter": "python",
   "pygments_lexer": "ipython3",
   "version": "3.8.10"
  }
 },
 "nbformat": 4,
 "nbformat_minor": 5
}
